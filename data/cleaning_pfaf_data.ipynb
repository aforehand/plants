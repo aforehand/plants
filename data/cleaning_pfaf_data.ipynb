{
 "cells": [
  {
   "cell_type": "markdown",
   "metadata": {},
   "source": [
    "### clean data from PFAF"
   ]
  },
  {
   "cell_type": "code",
   "execution_count": 22,
   "metadata": {},
   "outputs": [],
   "source": [
    "import pandas as pd\n",
    "import re\n",
    "import numpy as np\n",
    "from collections import Counter"
   ]
  },
  {
   "cell_type": "code",
   "execution_count": 118,
   "metadata": {},
   "outputs": [],
   "source": [
    "pfaf = pd.read_csv('pfaf_data.csv')"
   ]
  },
  {
   "cell_type": "code",
   "execution_count": 3,
   "metadata": {},
   "outputs": [],
   "source": [
    "pfaf.to_csv('pfaf_data_original.csv', index=False)"
   ]
  },
  {
   "cell_type": "code",
   "execution_count": 119,
   "metadata": {},
   "outputs": [],
   "source": [
    "pfaf = pfaf.drop_duplicates()"
   ]
  },
  {
   "cell_type": "code",
   "execution_count": 89,
   "metadata": {},
   "outputs": [
    {
     "data": {
      "text/plain": [
       "Index(['Care', 'Common Name', 'Cultivation details', 'Edibility Rating',\n",
       "       'Edible Uses', 'Family', 'Found In', 'Genus', 'Habitats',\n",
       "       'Known Hazards', 'Medicinal Rating', 'Medicinal Uses', 'Other Names',\n",
       "       'Other Uses', 'Physical Characteristics', 'Propagation', 'Range',\n",
       "       'Species', 'Summary', 'Synonyms', 'USDA hardiness', 'Weed Potential',\n",
       "       'Unnamed: 22'],\n",
       "      dtype='object')"
      ]
     },
     "execution_count": 89,
     "metadata": {},
     "output_type": "execute_result"
    }
   ],
   "source": [
    "pfaf.columns"
   ]
  },
  {
   "cell_type": "code",
   "execution_count": 90,
   "metadata": {},
   "outputs": [
    {
     "name": "stdout",
     "output_type": "stream",
     "text": [
      "Care 0\n",
      "Common Name 4009\n",
      "Cultivation details 4007\n",
      "Edibility Rating 4005\n",
      "Edible Uses 4007\n",
      "Family 4005\n",
      "Found In 5432\n",
      "Genus 0\n",
      "Habitats 4112\n",
      "Known Hazards 4005\n",
      "Medicinal Rating 4005\n",
      "Medicinal Uses 4005\n",
      "Other Names 5435\n",
      "Other Uses 4005\n",
      "Physical Characteristics 4005\n",
      "Propagation 4027\n",
      "Range 4006\n",
      "Species 0\n",
      "Summary 5145\n",
      "Synonyms 4823\n",
      "USDA hardiness 4005\n",
      "Weed Potential 5449\n",
      "Unnamed: 22 5577\n"
     ]
    }
   ],
   "source": [
    "for c in pfaf.columns:\n",
    "    print(c, pfaf[c].isnull().sum())"
   ]
  },
  {
   "cell_type": "markdown",
   "metadata": {},
   "source": [
    "### edible uses"
   ]
  },
  {
   "cell_type": "code",
   "execution_count": 91,
   "metadata": {},
   "outputs": [
    {
     "data": {
      "text/plain": [
       "array([nan, '   (1 of 5)', '   (3 of 5)', '   (0 of 5)', '   (2 of 5)',\n",
       "       '   (4 of 5)', '   (5 of 5)'], dtype=object)"
      ]
     },
     "execution_count": 91,
     "metadata": {},
     "output_type": "execute_result"
    }
   ],
   "source": [
    "pfaf['Edibility Rating'].unique()"
   ]
  },
  {
   "cell_type": "code",
   "execution_count": 120,
   "metadata": {},
   "outputs": [],
   "source": [
    "pfaf.fillna('', inplace=True)\n",
    "pfaf['Edibility Rating'].replace('', '0', inplace=True)"
   ]
  },
  {
   "cell_type": "code",
   "execution_count": 121,
   "metadata": {},
   "outputs": [],
   "source": [
    "pfaf['Edibility Rating'] = pfaf['Edibility Rating'].str.extract(r'([0-9])').astype(int)"
   ]
  },
  {
   "cell_type": "code",
   "execution_count": 122,
   "metadata": {},
   "outputs": [
    {
     "data": {
      "text/plain": [
       "'Edible Parts: Inner bark\\nEdible Uses: Gum  Tea\\n\\nYoung shoot tips are used as a substitute for tea[177, 183]. The pitch obtained from the bark can be hardened (probably by immersing it in cold water[K]) and used as a chewing gum[257]. Inner bark[257]. No further information is given, but inner bark can be dried, ground into a powder and then used with grain flours etc to make bread and other preparations[257].'"
      ]
     },
     "execution_count": 122,
     "metadata": {},
     "output_type": "execute_result"
    }
   ],
   "source": [
    "pfaf['Edible Uses'].iloc[1]"
   ]
  },
  {
   "cell_type": "code",
   "execution_count": 123,
   "metadata": {},
   "outputs": [],
   "source": [
    "edible_cols = pfaf['Edible Uses'].str.split('\\n', expand=True)\n",
    "edible_cols[['Genus', 'Species']] = pfaf[['Genus', 'Species']]\n",
    "edible_cols.fillna('', inplace=True)"
   ]
  },
  {
   "cell_type": "code",
   "execution_count": 235,
   "metadata": {},
   "outputs": [
    {
     "data": {
      "text/plain": [
       "[('Edible', 1188),\n",
       " ('Parts:', 1188),\n",
       " ('Leaves', 400),\n",
       " ('Seed', 361),\n",
       " ('Fruit', 331),\n",
       " ('Root', 282),\n",
       " ('Flowers', 155),\n",
       " ('Stem', 86),\n",
       " ('Oil', 80),\n",
       " ('Inner', 59),\n",
       " ('bark', 59),\n",
       " ('Seedpod', 42),\n",
       " ('Sap', 35),\n",
       " ('Nectar', 5),\n",
       " ('Manna', 3),\n",
       " ('Pollen', 3),\n",
       " ('Apical', 1),\n",
       " ('bud', 1),\n",
       " ('Shoots', 1)]"
      ]
     },
     "execution_count": 235,
     "metadata": {},
     "output_type": "execute_result"
    }
   ],
   "source": [
    "edible_parts_counts = Counter()\n",
    "edible_uses_counts = Counter()\n",
    "edible_cols[edible_cols[0].str.contains('Edible Parts')][0].str.split().apply(\n",
    "    edible_parts_counts.update)\n",
    "edible_cols[edible_cols[1].str.contains('Edible Uses')][1].str.split().apply(\n",
    "    edible_uses_counts.update)\n",
    "edible_parts_counts.most_common()"
   ]
  },
  {
   "cell_type": "code",
   "execution_count": 134,
   "metadata": {},
   "outputs": [
    {
     "data": {
      "text/html": [
       "<div>\n",
       "<style scoped>\n",
       "    .dataframe tbody tr th:only-of-type {\n",
       "        vertical-align: middle;\n",
       "    }\n",
       "\n",
       "    .dataframe tbody tr th {\n",
       "        vertical-align: top;\n",
       "    }\n",
       "\n",
       "    .dataframe thead th {\n",
       "        text-align: right;\n",
       "    }\n",
       "</style>\n",
       "<table border=\"1\" class=\"dataframe\">\n",
       "  <thead>\n",
       "    <tr style=\"text-align: right;\">\n",
       "      <th></th>\n",
       "      <th>0</th>\n",
       "      <th>1</th>\n",
       "      <th>2</th>\n",
       "      <th>3</th>\n",
       "      <th>Genus</th>\n",
       "      <th>Species</th>\n",
       "    </tr>\n",
       "  </thead>\n",
       "  <tbody>\n",
       "    <tr>\n",
       "      <th>106</th>\n",
       "      <td>Edible Parts: Nectar  Seed</td>\n",
       "      <td>Edible Uses:</td>\n",
       "      <td></td>\n",
       "      <td>Seed - cooked. Said to be as sweet as a chestn...</td>\n",
       "      <td>Aesculus</td>\n",
       "      <td>flava</td>\n",
       "    </tr>\n",
       "    <tr>\n",
       "      <th>1658</th>\n",
       "      <td>Edible Parts: Fruit  Nectar</td>\n",
       "      <td>Edible Uses:</td>\n",
       "      <td></td>\n",
       "      <td>Fruit - raw[60, 105]. A sweet flavour[61]. The...</td>\n",
       "      <td>Comandra</td>\n",
       "      <td>umbellata</td>\n",
       "    </tr>\n",
       "    <tr>\n",
       "      <th>2858</th>\n",
       "      <td>Edible Parts: Nectar</td>\n",
       "      <td>Edible Uses: Tea</td>\n",
       "      <td></td>\n",
       "      <td>The plant has been boiled up as a tea[257]. Th...</td>\n",
       "      <td>Ipomopsis</td>\n",
       "      <td>aggregata</td>\n",
       "    </tr>\n",
       "    <tr>\n",
       "      <th>3132</th>\n",
       "      <td>Edible Parts: Fruit  Nectar</td>\n",
       "      <td>Edible Uses:</td>\n",
       "      <td></td>\n",
       "      <td>Fruit - raw or cooked[105, 177, 212]. Not tast...</td>\n",
       "      <td>Lonicera</td>\n",
       "      <td>ciliosa</td>\n",
       "    </tr>\n",
       "    <tr>\n",
       "      <th>3326</th>\n",
       "      <td>Edible Parts: Fruit  Nectar</td>\n",
       "      <td>Edible Uses:</td>\n",
       "      <td></td>\n",
       "      <td>Fruit - fresh or dried[61, 105, 183]. The frui...</td>\n",
       "      <td>Menziesia</td>\n",
       "      <td>ferruginea</td>\n",
       "    </tr>\n",
       "  </tbody>\n",
       "</table>\n",
       "</div>"
      ],
      "text/plain": [
       "                                0                 1 2  \\\n",
       "106    Edible Parts: Nectar  Seed      Edible Uses:     \n",
       "1658  Edible Parts: Fruit  Nectar      Edible Uses:     \n",
       "2858         Edible Parts: Nectar  Edible Uses: Tea     \n",
       "3132  Edible Parts: Fruit  Nectar      Edible Uses:     \n",
       "3326  Edible Parts: Fruit  Nectar      Edible Uses:     \n",
       "\n",
       "                                                      3      Genus     Species  \n",
       "106   Seed - cooked. Said to be as sweet as a chestn...   Aesculus       flava  \n",
       "1658  Fruit - raw[60, 105]. A sweet flavour[61]. The...   Comandra   umbellata  \n",
       "2858  The plant has been boiled up as a tea[257]. Th...  Ipomopsis   aggregata  \n",
       "3132  Fruit - raw or cooked[105, 177, 212]. Not tast...   Lonicera     ciliosa  \n",
       "3326  Fruit - fresh or dried[61, 105, 183]. The frui...  Menziesia  ferruginea  "
      ]
     },
     "execution_count": 134,
     "metadata": {},
     "output_type": "execute_result"
    }
   ],
   "source": [
    "edible_cols[edible_cols[0].str.contains('Nectar')]"
   ]
  },
  {
   "cell_type": "code",
   "execution_count": 135,
   "metadata": {},
   "outputs": [
    {
     "data": {
      "text/plain": [
       "'The plant has been boiled up as a tea[257]. The nectar is sucked from the flowers by children[257].'"
      ]
     },
     "execution_count": 135,
     "metadata": {},
     "output_type": "execute_result"
    }
   ],
   "source": [
    "edible_cols[3].loc[2858]"
   ]
  },
  {
   "cell_type": "code",
   "execution_count": 136,
   "metadata": {},
   "outputs": [
    {
     "data": {
      "text/html": [
       "<div>\n",
       "<style scoped>\n",
       "    .dataframe tbody tr th:only-of-type {\n",
       "        vertical-align: middle;\n",
       "    }\n",
       "\n",
       "    .dataframe tbody tr th {\n",
       "        vertical-align: top;\n",
       "    }\n",
       "\n",
       "    .dataframe thead th {\n",
       "        text-align: right;\n",
       "    }\n",
       "</style>\n",
       "<table border=\"1\" class=\"dataframe\">\n",
       "  <thead>\n",
       "    <tr style=\"text-align: right;\">\n",
       "      <th></th>\n",
       "      <th>0</th>\n",
       "      <th>1</th>\n",
       "      <th>2</th>\n",
       "      <th>3</th>\n",
       "      <th>Genus</th>\n",
       "      <th>Species</th>\n",
       "    </tr>\n",
       "  </thead>\n",
       "  <tbody>\n",
       "    <tr>\n",
       "      <th>2987</th>\n",
       "      <td>Edible Parts: Manna  Sap</td>\n",
       "      <td>Edible Uses: Gum  Sweetener</td>\n",
       "      <td></td>\n",
       "      <td>A gum, or resin, is produced under the bark. I...</td>\n",
       "      <td>Larix</td>\n",
       "      <td>occidentalis</td>\n",
       "    </tr>\n",
       "    <tr>\n",
       "      <th>4303</th>\n",
       "      <td>Edible Parts: Inner bark  Manna</td>\n",
       "      <td>Edible Uses: Coffee  Condiment  Gum  Tea</td>\n",
       "      <td></td>\n",
       "      <td>Young shoot tips - used as a flavouring in coo...</td>\n",
       "      <td>Pseudotsuga</td>\n",
       "      <td>menziesii</td>\n",
       "    </tr>\n",
       "    <tr>\n",
       "      <th>4653</th>\n",
       "      <td>Edible Parts: Flowers  Inner bark  Manna</td>\n",
       "      <td>Edible Uses: Tea</td>\n",
       "      <td></td>\n",
       "      <td>A honeydew can be obtained from the cut branch...</td>\n",
       "      <td>Salix</td>\n",
       "      <td>gooddingii</td>\n",
       "    </tr>\n",
       "  </tbody>\n",
       "</table>\n",
       "</div>"
      ],
      "text/plain": [
       "                                             0  \\\n",
       "2987                  Edible Parts: Manna  Sap   \n",
       "4303           Edible Parts: Inner bark  Manna   \n",
       "4653  Edible Parts: Flowers  Inner bark  Manna   \n",
       "\n",
       "                                             1 2  \\\n",
       "2987               Edible Uses: Gum  Sweetener     \n",
       "4303  Edible Uses: Coffee  Condiment  Gum  Tea     \n",
       "4653                          Edible Uses: Tea     \n",
       "\n",
       "                                                      3        Genus  \\\n",
       "2987  A gum, or resin, is produced under the bark. I...        Larix   \n",
       "4303  Young shoot tips - used as a flavouring in coo...  Pseudotsuga   \n",
       "4653  A honeydew can be obtained from the cut branch...        Salix   \n",
       "\n",
       "           Species  \n",
       "2987  occidentalis  \n",
       "4303     menziesii  \n",
       "4653    gooddingii  "
      ]
     },
     "execution_count": 136,
     "metadata": {},
     "output_type": "execute_result"
    }
   ],
   "source": [
    "edible_cols[edible_cols[0].str.contains('Manna')]"
   ]
  },
  {
   "cell_type": "code",
   "execution_count": 137,
   "metadata": {},
   "outputs": [
    {
     "data": {
      "text/html": [
       "<div>\n",
       "<style scoped>\n",
       "    .dataframe tbody tr th:only-of-type {\n",
       "        vertical-align: middle;\n",
       "    }\n",
       "\n",
       "    .dataframe tbody tr th {\n",
       "        vertical-align: top;\n",
       "    }\n",
       "\n",
       "    .dataframe thead th {\n",
       "        text-align: right;\n",
       "    }\n",
       "</style>\n",
       "<table border=\"1\" class=\"dataframe\">\n",
       "  <thead>\n",
       "    <tr style=\"text-align: right;\">\n",
       "      <th></th>\n",
       "      <th>0</th>\n",
       "      <th>1</th>\n",
       "      <th>2</th>\n",
       "      <th>3</th>\n",
       "      <th>Genus</th>\n",
       "      <th>Species</th>\n",
       "    </tr>\n",
       "  </thead>\n",
       "  <tbody>\n",
       "    <tr>\n",
       "      <th>4761</th>\n",
       "      <td>Edible Parts: Pollen  Root  Seed  Stem</td>\n",
       "      <td>Edible Uses:</td>\n",
       "      <td></td>\n",
       "      <td>Root - raw or cooked[172]. Rich in starch. Ste...</td>\n",
       "      <td>Scirpus</td>\n",
       "      <td>microcarpus</td>\n",
       "    </tr>\n",
       "    <tr>\n",
       "      <th>5378</th>\n",
       "      <td>Edible Parts: Flowers  Leaves  Oil  Pollen  Ro...</td>\n",
       "      <td>Edible Uses: Oil</td>\n",
       "      <td></td>\n",
       "      <td>Roots - raw or cooked[145]. Rich in starch[105...</td>\n",
       "      <td>Typha</td>\n",
       "      <td>domingensis</td>\n",
       "    </tr>\n",
       "    <tr>\n",
       "      <th>5379</th>\n",
       "      <td>Edible Parts: Flowers  Leaves  Oil  Pollen  Ro...</td>\n",
       "      <td>Edible Uses: Oil</td>\n",
       "      <td></td>\n",
       "      <td>Roots - raw or cooked[2, 12]. They can be boil...</td>\n",
       "      <td>Typha</td>\n",
       "      <td>latifolia</td>\n",
       "    </tr>\n",
       "  </tbody>\n",
       "</table>\n",
       "</div>"
      ],
      "text/plain": [
       "                                                      0                 1 2  \\\n",
       "4761             Edible Parts: Pollen  Root  Seed  Stem      Edible Uses:     \n",
       "5378  Edible Parts: Flowers  Leaves  Oil  Pollen  Ro...  Edible Uses: Oil     \n",
       "5379  Edible Parts: Flowers  Leaves  Oil  Pollen  Ro...  Edible Uses: Oil     \n",
       "\n",
       "                                                      3    Genus      Species  \n",
       "4761  Root - raw or cooked[172]. Rich in starch. Ste...  Scirpus  microcarpus  \n",
       "5378  Roots - raw or cooked[145]. Rich in starch[105...    Typha  domingensis  \n",
       "5379  Roots - raw or cooked[2, 12]. They can be boil...    Typha    latifolia  "
      ]
     },
     "execution_count": 137,
     "metadata": {},
     "output_type": "execute_result"
    }
   ],
   "source": [
    "edible_cols[edible_cols[0].str.contains('Pollen')]"
   ]
  },
  {
   "cell_type": "code",
   "execution_count": 138,
   "metadata": {},
   "outputs": [
    {
     "data": {
      "text/plain": [
       "76     Leaves - cooked[105]. Some caution is advised,...\n",
       "101         Seeds[257]. No further information is given.\n",
       "192    The heart of the plant is very rich in sacchar...\n",
       "278        Catkins - raw or cooked. A bitter taste[172].\n",
       "441    Young leaves - cooked[177]. Used as a potherb[...\n",
       "Name: 0, dtype: object"
      ]
     },
     "execution_count": 138,
     "metadata": {},
     "output_type": "execute_result"
    }
   ],
   "source": [
    "edible_cols[(~edible_cols[0].str.contains('Edible Parts:')) & \n",
    "            ~(edible_cols[0]=='') & ~(edible_cols[0]=='None known') & \n",
    "            ~(edible_cols[0]=='0')][0].head()"
   ]
  },
  {
   "cell_type": "code",
   "execution_count": 139,
   "metadata": {},
   "outputs": [],
   "source": [
    "edible_cols[3] = np.where(((~edible_cols[0].str.contains('Edible Parts:')) & \n",
    "            ~(edible_cols[0]=='') & ~(edible_cols[0]=='None known') & \n",
    "            ~(edible_cols[0]=='0')), edible_cols[0], edible_cols[3])"
   ]
  },
  {
   "cell_type": "code",
   "execution_count": 140,
   "metadata": {},
   "outputs": [
    {
     "data": {
      "text/plain": [
       "0          Leaves - cooked[105]. Some caution is advised,...\n",
       "1                                                           \n",
       "2                                                           \n",
       "3          Leaves - cooked[105]. Some caution is advised,...\n",
       "Genus                                                 Actaea\n",
       "Species                                             racemosa\n",
       "Name: 76, dtype: object"
      ]
     },
     "execution_count": 140,
     "metadata": {},
     "output_type": "execute_result"
    }
   ],
   "source": [
    "edible_cols.loc[76]"
   ]
  },
  {
   "cell_type": "code",
   "execution_count": 146,
   "metadata": {},
   "outputs": [],
   "source": [
    "pfaf['Edible inner bark'] = edible_cols[0].str.lower().str.contains('inner bark')\n",
    "pfaf['Edible roots'] = edible_cols[0].str.lower().str.contains('root')\n",
    "pfaf['Edible seeds'] = edible_cols[0].str.lower().str.contains('seed')\n",
    "pfaf['Edible seedpods'] = edible_cols[0].str.lower().str.contains('seedpod')\n",
    "pfaf['Edible sap'] = (edible_cols[0].str.lower().str.contains('sap') | \n",
    "                      edible_cols[0].str.lower().str.contains('manna'))\n",
    "pfaf['Edible leaves'] = edible_cols[0].str.lower().str.contains('leaves')\n",
    "pfaf['Edible flowers'] = edible_cols[0].str.lower().str.contains('flowers')\n",
    "pfaf['Edible fruit'] = edible_cols[0].str.lower().str.contains('fruit')\n",
    "pfaf['Edible stems'] = edible_cols[0].str.lower().str.contains('stem')\n",
    "pfaf['Edible oil'] = edible_cols[0].str.lower().str.contains('oil')\n",
    "pfaf['Edible shoots'] = edible_cols[3].str.lower().str.contains('shoots')"
   ]
  },
  {
   "cell_type": "code",
   "execution_count": 236,
   "metadata": {},
   "outputs": [
    {
     "data": {
      "text/plain": [
       "[('Edible', 1188),\n",
       " ('Uses:', 1188),\n",
       " ('Tea', 174),\n",
       " ('Condiment', 120),\n",
       " ('Oil', 80),\n",
       " ('Gum', 61),\n",
       " ('Coffee', 58),\n",
       " ('Drink', 38),\n",
       " ('Sweetener', 36),\n",
       " ('Pectin', 7),\n",
       " ('Colouring', 7),\n",
       " ('Chocolate', 4),\n",
       " ('Curdling', 3),\n",
       " ('agent', 3),\n",
       " ('Milk', 2),\n",
       " ('Rutin', 1),\n",
       " ('Salt', 1),\n",
       " ('Stabilizer', 1),\n",
       " ('Gelatine', 1)]"
      ]
     },
     "execution_count": 236,
     "metadata": {},
     "output_type": "execute_result"
    }
   ],
   "source": [
    "edible_uses_counts.most_common()"
   ]
  },
  {
   "cell_type": "code",
   "execution_count": 149,
   "metadata": {},
   "outputs": [],
   "source": [
    "pfaf['Edible use gum'] = edible_cols[1].str.lower().str.contains('gum')\n",
    "pfaf['Edible use drink'] = (edible_cols[1].str.lower().str.contains('tea') | \n",
    "                            edible_cols[1].str.lower().str.contains('drink') |\n",
    "                            edible_cols[1].str.lower().str.contains('coffee'))\n",
    "pfaf['Edible use condiment'] = edible_cols[1].str.lower().str.contains('condiment')\n",
    "pfaf['Edible use sweetener'] = edible_cols[1].str.lower().str.contains('sweetener')\n",
    "pfaf['Edible use oil'] = edible_cols[1].str.lower().str.contains('oil')"
   ]
  },
  {
   "cell_type": "code",
   "execution_count": 164,
   "metadata": {},
   "outputs": [],
   "source": [
    "pfaf['Edible description'] = edible_cols[3]"
   ]
  },
  {
   "cell_type": "code",
   "execution_count": 160,
   "metadata": {},
   "outputs": [],
   "source": [
    "pfaf.drop('Edible Uses', axis=1, inplace=True)"
   ]
  },
  {
   "cell_type": "code",
   "execution_count": 150,
   "metadata": {},
   "outputs": [],
   "source": [
    "pfaf.to_csv('pfaf_data.csv', index=False)"
   ]
  },
  {
   "cell_type": "markdown",
   "metadata": {},
   "source": [
    "### medicinal uses"
   ]
  },
  {
   "cell_type": "code",
   "execution_count": 151,
   "metadata": {},
   "outputs": [
    {
     "data": {
      "text/plain": [
       "array(['', '   (2 of 5)', '   (5 of 5)', '   (3 of 5)', '   (1 of 5)',\n",
       "       '   (0 of 5)', '   (4 of 5)'], dtype=object)"
      ]
     },
     "execution_count": 151,
     "metadata": {},
     "output_type": "execute_result"
    }
   ],
   "source": [
    "pfaf['Medicinal Rating'].unique()"
   ]
  },
  {
   "cell_type": "code",
   "execution_count": 153,
   "metadata": {},
   "outputs": [],
   "source": [
    "pfaf['Medicinal Rating'].replace('', '0', inplace=True)\n",
    "pfaf['Medicinal Rating'] = pfaf['Medicinal Rating'].str.extract(r'([0-9])').astype(int)"
   ]
  },
  {
   "cell_type": "code",
   "execution_count": 163,
   "metadata": {},
   "outputs": [
    {
     "data": {
      "text/plain": [
       "\"Plants For A Future can not take any responsibility for any adverse effects from the use of plants. Always seek advice from a professional before using a plant medicinally.\\n\\n\\nThis plant was used quite widely by native North American Indians. An infusion of the bark was used as a tonic and to treat stomach ailments, TB, haemorrhoids and various minor complaints[257]. The pitch, or resin, was also used to treat colds, sore throats etc[257]. The bark of this tree contains blisters that are filled with a resin called 'Canadian Balsam'[226]. Although the report does not mention the uses of this resin, it can almost certainly be used in the same ways as the resin of A. balsamea, as detailed below:- The resin obtained from this tree (see 'Uses notes' below) has been used throughout the world and is a very effective antiseptic and healing agent. It is used as a healing and analgesic protective covering for burns, bruises, wounds and sores[213, 222, 226]. It is also used to treat sore nipples[213] and is said to be one of the best curatives for a sore throat[245]. The resin is also antiscorbutic, diuretic, stimulant and tonic[4, 171, 222]. It is used internally in propriety mixtures to treat coughs and diarrhoea, though taken in excess it is purgative[238]. A warm liquid of the gummy sap was drunk as a treatment for gonorrhoea[212]. A tea made from the leaves is antiscorbutic[4, 171]. It is used in the treatment of coughs, colds and fevers[222]. The leaves and young shoots are best harvested in the spring and dried for later use[238].\""
      ]
     },
     "execution_count": 163,
     "metadata": {},
     "output_type": "execute_result"
    }
   ],
   "source": [
    "pfaf['Medicinal Uses'].iloc[1]"
   ]
  },
  {
   "cell_type": "code",
   "execution_count": 165,
   "metadata": {},
   "outputs": [],
   "source": [
    "medicinal_cols = pfaf['Medicinal Uses'].str.split('\\n', expand=True)\n",
    "medicinal_cols[['Genus', 'Species']] = pfaf[['Genus', 'Species']]\n",
    "medicinal_cols.fillna('', inplace=True)"
   ]
  },
  {
   "cell_type": "code",
   "execution_count": 166,
   "metadata": {},
   "outputs": [
    {
     "data": {
      "text/html": [
       "<div>\n",
       "<style scoped>\n",
       "    .dataframe tbody tr th:only-of-type {\n",
       "        vertical-align: middle;\n",
       "    }\n",
       "\n",
       "    .dataframe tbody tr th {\n",
       "        vertical-align: top;\n",
       "    }\n",
       "\n",
       "    .dataframe thead th {\n",
       "        text-align: right;\n",
       "    }\n",
       "</style>\n",
       "<table border=\"1\" class=\"dataframe\">\n",
       "  <thead>\n",
       "    <tr style=\"text-align: right;\">\n",
       "      <th></th>\n",
       "      <th>0</th>\n",
       "      <th>1</th>\n",
       "      <th>2</th>\n",
       "      <th>3</th>\n",
       "      <th>4</th>\n",
       "      <th>5</th>\n",
       "      <th>Genus</th>\n",
       "      <th>Species</th>\n",
       "    </tr>\n",
       "  </thead>\n",
       "  <tbody>\n",
       "    <tr>\n",
       "      <th>0</th>\n",
       "      <td></td>\n",
       "      <td></td>\n",
       "      <td></td>\n",
       "      <td></td>\n",
       "      <td></td>\n",
       "      <td></td>\n",
       "      <td>Abutilon</td>\n",
       "      <td>abutiloides</td>\n",
       "    </tr>\n",
       "    <tr>\n",
       "      <th>1</th>\n",
       "      <td>Plants For A Future can not take any responsib...</td>\n",
       "      <td></td>\n",
       "      <td></td>\n",
       "      <td>This plant was used quite widely by native Nor...</td>\n",
       "      <td></td>\n",
       "      <td></td>\n",
       "      <td>Abies</td>\n",
       "      <td>amabilis</td>\n",
       "    </tr>\n",
       "    <tr>\n",
       "      <th>2</th>\n",
       "      <td>Plants For A Future can not take any responsib...</td>\n",
       "      <td>Analgesic  Antiscorbutic  Antiseptic  Diuretic...</td>\n",
       "      <td></td>\n",
       "      <td></td>\n",
       "      <td>The resin obtained from the balsam fir (see 'U...</td>\n",
       "      <td></td>\n",
       "      <td>Abies</td>\n",
       "      <td>balsamea</td>\n",
       "    </tr>\n",
       "    <tr>\n",
       "      <th>6</th>\n",
       "      <td></td>\n",
       "      <td></td>\n",
       "      <td></td>\n",
       "      <td></td>\n",
       "      <td></td>\n",
       "      <td></td>\n",
       "      <td>Abutilon</td>\n",
       "      <td>berlandieri</td>\n",
       "    </tr>\n",
       "    <tr>\n",
       "      <th>7</th>\n",
       "      <td></td>\n",
       "      <td></td>\n",
       "      <td></td>\n",
       "      <td></td>\n",
       "      <td></td>\n",
       "      <td></td>\n",
       "      <td>Abies</td>\n",
       "      <td>bracteata</td>\n",
       "    </tr>\n",
       "  </tbody>\n",
       "</table>\n",
       "</div>"
      ],
      "text/plain": [
       "                                                   0  \\\n",
       "0                                                      \n",
       "1  Plants For A Future can not take any responsib...   \n",
       "2  Plants For A Future can not take any responsib...   \n",
       "6                                                      \n",
       "7                                                      \n",
       "\n",
       "                                                   1 2  \\\n",
       "0                                                        \n",
       "1                                                        \n",
       "2  Analgesic  Antiscorbutic  Antiseptic  Diuretic...     \n",
       "6                                                        \n",
       "7                                                        \n",
       "\n",
       "                                                   3  \\\n",
       "0                                                      \n",
       "1  This plant was used quite widely by native Nor...   \n",
       "2                                                      \n",
       "6                                                      \n",
       "7                                                      \n",
       "\n",
       "                                                   4 5     Genus      Species  \n",
       "0                                                       Abutilon  abutiloides  \n",
       "1                                                          Abies     amabilis  \n",
       "2  The resin obtained from the balsam fir (see 'U...       Abies     balsamea  \n",
       "6                                                       Abutilon  berlandieri  \n",
       "7                                                          Abies    bracteata  "
      ]
     },
     "execution_count": 166,
     "metadata": {},
     "output_type": "execute_result"
    }
   ],
   "source": [
    "medicinal_cols.head()"
   ]
  },
  {
   "cell_type": "code",
   "execution_count": 167,
   "metadata": {},
   "outputs": [
    {
     "data": {
      "text/plain": [
       "array(['',\n",
       "       'Plants For A Future can not take any responsibility for any adverse effects from the use of plants. Always seek advice from a professional before using a plant medicinally.'],\n",
       "      dtype=object)"
      ]
     },
     "execution_count": 167,
     "metadata": {},
     "output_type": "execute_result"
    }
   ],
   "source": [
    "medicinal_cols[0].unique()"
   ]
  },
  {
   "cell_type": "code",
   "execution_count": 237,
   "metadata": {},
   "outputs": [
    {
     "data": {
      "text/plain": [
       "[('Astringent', 248),\n",
       " ('Diuretic', 224),\n",
       " ('Poultice', 221),\n",
       " ('Tonic', 174),\n",
       " ('Febrifuge', 150),\n",
       " ('Stomachic', 132),\n",
       " ('Diaphoretic', 130),\n",
       " ('Ophthalmic', 95),\n",
       " ('Salve', 95),\n",
       " ('Antiseptic', 93),\n",
       " ('Laxative', 91),\n",
       " ('Emetic', 89),\n",
       " ('Analgesic', 86),\n",
       " ('Antirheumatic', 85),\n",
       " ('Expectorant', 81),\n",
       " ('Antispasmodic', 76),\n",
       " ('Skin', 72),\n",
       " ('Miscellany', 72),\n",
       " ('Pectoral', 71),\n",
       " ('Sedative', 66),\n",
       " ('Stimulant', 65),\n",
       " ('Odontalgic', 54),\n",
       " ('VD', 52),\n",
       " ('Carminative', 49),\n",
       " ('Cancer', 49),\n",
       " ('Anodyne', 48),\n",
       " ('Emmenagogue', 47),\n",
       " ('Birthing', 44),\n",
       " ('aid', 44),\n",
       " ('Vulnerary', 44),\n",
       " ('TB', 40),\n",
       " ('Cathartic', 40),\n",
       " ('Kidney', 40),\n",
       " ('Vermifuge', 38),\n",
       " ('Appetizer', 35),\n",
       " ('Alterative', 35),\n",
       " ('Anthelmintic', 34),\n",
       " (\"Women's\", 34),\n",
       " ('complaints', 34),\n",
       " ('Blood', 32),\n",
       " ('Parasiticide', 32),\n",
       " ('Hypotensive', 31),\n",
       " ('Antiinflammatory', 30),\n",
       " ('Cardiac', 30),\n",
       " ('Haemostatic', 29),\n",
       " ('Rubefacient', 28),\n",
       " ('Cardiotonic', 27),\n",
       " ('Purgative', 26),\n",
       " ('Contraceptive', 26),\n",
       " ('Stings', 26),\n",
       " ('Galactogogue', 25),\n",
       " ('Homeopathy', 24),\n",
       " ('Disinfectant', 22),\n",
       " ('Digestive', 22),\n",
       " ('Antiperiodic', 21),\n",
       " ('Warts', 21),\n",
       " ('purifier', 21),\n",
       " ('Nervine', 21),\n",
       " ('Styptic', 21),\n",
       " ('Narcotic', 20),\n",
       " ('Antiscorbutic', 19),\n",
       " ('Hypnotic', 19),\n",
       " ('Antidote', 18),\n",
       " ('Antiphlogistic', 18),\n",
       " ('Antidiarrhoeal', 17),\n",
       " ('Demulcent', 17),\n",
       " ('Antiasthmatic', 17),\n",
       " ('Antiemetic', 16),\n",
       " ('tonic', 16),\n",
       " ('Cholagogue', 16),\n",
       " ('Antibacterial', 16),\n",
       " ('Hypoglycaemic', 16),\n",
       " ('Depurative', 16),\n",
       " ('Antipruritic', 15),\n",
       " ('Abortifacient', 15),\n",
       " ('Aromatic', 14),\n",
       " ('Oxytoxic', 14),\n",
       " ('Bitter', 13),\n",
       " ('Hepatic', 12),\n",
       " ('Lithontripic', 12),\n",
       " ('Antihaemorrhoidal', 12),\n",
       " ('Sialagogue', 11),\n",
       " ('Antidandruff', 11),\n",
       " ('Aphrodisiac', 11),\n",
       " ('Emollient', 10),\n",
       " ('Resolvent', 9),\n",
       " ('Antiseborrheic', 9),\n",
       " ('Aperient', 9),\n",
       " ('Antitussive', 8),\n",
       " ('Irritant', 7),\n",
       " ('Adaptogen', 7),\n",
       " ('Vasodilator', 7),\n",
       " ('Foot', 6),\n",
       " ('care', 6),\n",
       " ('Sternutatory', 6),\n",
       " ('Hallucinogenic', 6),\n",
       " ('Detergent', 6),\n",
       " ('Infertility', 6),\n",
       " ('Deobstruent', 5),\n",
       " ('Antitumor', 5),\n",
       " ('Uterine', 5),\n",
       " ('Antiaphonic', 5),\n",
       " ('Antiviral', 5),\n",
       " ('Deodorant', 4),\n",
       " ('Antipyretic', 4),\n",
       " ('Refrigerant', 4),\n",
       " ('Cytostatic', 3),\n",
       " ('Antiscrophulatic', 3),\n",
       " ('Antifungal', 3),\n",
       " ('Plaster', 3),\n",
       " ('Anaesthetic', 2),\n",
       " ('Antiarthritic', 2),\n",
       " ('Antiflatulent', 2),\n",
       " ('Vesicant', 2),\n",
       " ('Antiecchymotic', 2),\n",
       " ('Antibiotic', 2),\n",
       " ('Antibilious', 2),\n",
       " ('Antipsoriatic', 2),\n",
       " ('Antianxiety', 2),\n",
       " ('Aromatherapy', 2),\n",
       " ('Hydrogogue', 2),\n",
       " ('Anaphrodisiac', 2),\n",
       " ('Anticholesterolemic', 2),\n",
       " ('Antidepressant', 2),\n",
       " ('Enuresis', 2),\n",
       " ('Antihalitosis', 1),\n",
       " ('Appetite', 1),\n",
       " ('Stimulants', 1),\n",
       " ('Acrid', 1),\n",
       " ('Mydriatic', 1),\n",
       " ('Mouthwash', 1),\n",
       " ('Anticoagulant', 1),\n",
       " ('Nutritive', 1),\n",
       " ('Vasoconstrictor', 1),\n",
       " ('Anticonvulsant', 1),\n",
       " ('Cytotoxic', 1)]"
      ]
     },
     "execution_count": 237,
     "metadata": {},
     "output_type": "execute_result"
    }
   ],
   "source": [
    "medicinal_counter = Counter()\n",
    "medicinal_cols[1].str.split().apply(medicinal_counter.update)\n",
    "medicinal_cols[2].str.split().apply(medicinal_counter.update)\n",
    "medicinal_counter.most_common()"
   ]
  },
  {
   "cell_type": "code",
   "execution_count": 197,
   "metadata": {},
   "outputs": [],
   "source": [
    "to_remove = ['Alterative', 'Aromatherapy', 'Homeopathy', 'Antiscorbutic', 'Tonic', \n",
    "             'tonic', 'Blood', 'purifier', 'Cardiotonic', 'Cholagogue', 'Uterine', \n",
    "             'complaints', 'Antihalitosis', 'care', 'Miscellany', 'aid', \n",
    "             'Aromatic', 'Deobstruent', 'Acrid', 'Enuresis', 'Nutritive']"
   ]
  },
  {
   "cell_type": "code",
   "execution_count": 198,
   "metadata": {},
   "outputs": [],
   "source": [
    "for use in medicinal_counter.keys():\n",
    "    pfaf[use] = (medicinal_cols[1].str.contains(use) | \n",
    "                 medicinal_cols[2].str.contains(use))"
   ]
  },
  {
   "cell_type": "code",
   "execution_count": 199,
   "metadata": {},
   "outputs": [],
   "source": [
    "pfaf['Laxative'] = (pfaf['Laxative'] | pfaf['Aperient'] | pfaf['Cathartic'])\n",
    "to_remove.append('Aperient')\n",
    "to_remove.append('Cathartic')\n",
    "pfaf['Purgative'] = (pfaf['Purgative'] | pfaf['Hydrogogue'])\n",
    "to_remove.append('Hydrogogue')\n",
    "pfaf['Cancer'] = (pfaf['Cancer'] | pfaf['Antitumor'] | pfaf['Cytostatic'] | \n",
    "                  pfaf['Cytotoxic'] | pfaf['Resolvent'])\n",
    "to_remove.append('Antitumor')\n",
    "to_remove.append('Cytostatic')\n",
    "to_remove.append('Cytotoxic')\n",
    "to_remove.append('Resolvent')\n",
    "pfaf['Fever'] = (pfaf['Antipyretic'] | pfaf['Febrifuge'])\n",
    "to_remove.append('Antipyretic')\n",
    "to_remove.append('Febrifuge')\n",
    "pfaf['Stimulant'] = (pfaf['Stimulant'] | pfaf['Stimulants'])\n",
    "to_remove.append('Stimulants')\n",
    "pfaf['Birthing'] = (pfaf['Birthing'] | pfaf['Oxytoxic'])\n",
    "to_remove.append('Oxytoxic')\n",
    "pfaf['Female misc'] = pfaf[\"Women's\"]\n",
    "to_remove.append(\"Women's\")"
   ]
  },
  {
   "cell_type": "code",
   "execution_count": 200,
   "metadata": {},
   "outputs": [],
   "source": [
    "pfaf.drop(to_remove, axis=1, inplace=True)"
   ]
  },
  {
   "cell_type": "code",
   "execution_count": 183,
   "metadata": {},
   "outputs": [],
   "source": [
    "pfaf['Medicinal description'] = (medicinal_cols[3] + \n",
    "    medicinal_cols[4] + medicinal_cols[5])"
   ]
  },
  {
   "cell_type": "markdown",
   "metadata": {},
   "source": [
    "### habitats"
   ]
  },
  {
   "cell_type": "code",
   "execution_count": 234,
   "metadata": {},
   "outputs": [
    {
     "data": {
      "text/plain": [
       "[('', 5497),\n",
       " (' Cultivated Beds', 545),\n",
       " ('Woodland Garden Sunny Edge', 446),\n",
       " (' Dappled Shade', 335),\n",
       " (' Shady Edge', 272),\n",
       " ('Woodland Garden Canopy', 194),\n",
       " ('Woodland Garden Dappled Shade', 193),\n",
       " (' Bog Garden', 181),\n",
       " (' Ground Cover', 91),\n",
       " (' not Deep Shade', 82),\n",
       " (' Pond', 73),\n",
       " (' Sunny Edge', 62),\n",
       " ('Woodland Garden Secondary', 54),\n",
       " (' Hedge', 39),\n",
       " (' Secondary', 35),\n",
       " (' Meadow', 28),\n",
       " (' South Wall. By. West Wall. By.', 24),\n",
       " (' East Wall. By. South Wall. By.', 22),\n",
       " (' East Wall. By. South Wall. By. West Wall. By.', 11),\n",
       " (' Lawn', 8),\n",
       " (' Hedgerow', 8),\n",
       " (' East Wall. In. South Wall. In. West Wall. In.', 8),\n",
       " (' North Wall. In. East Wall. In. West Wall. In.', 4),\n",
       " (' North Wall. In. East Wall. In.', 4),\n",
       " (' South Wall. By.', 2),\n",
       " (' North Wall. By. East Wall. By.', 2),\n",
       " ('Woodland Garden Cultivated Beds', 1),\n",
       " ('Woodland Garden Shady Edge', 1),\n",
       " (' East Wall. In. West Wall. In.', 1),\n",
       " (' East Wall. By. West Wall. By.', 1),\n",
       " (' East Wall. In.', 1)]"
      ]
     },
     "execution_count": 234,
     "metadata": {},
     "output_type": "execute_result"
    }
   ],
   "source": [
    "habitats = pfaf['Habitats'].copy()\n",
    "habitats_counts = Counter()\n",
    "habitats.str.split(';').apply(habitats_counts.update)\n",
    "habitats_counts.most_common()"
   ]
  },
  {
   "cell_type": "code",
   "execution_count": 159,
   "metadata": {},
   "outputs": [],
   "source": [
    "pfaf['Canopy'] = habitats.str.contains('Canopy')\n",
    "pfaf['Understory'] = habitats.str.contains('Secondary')\n",
    "pfaf['Cultivated Beds'] = habitats.str.contains('Cultivated Beds')\n",
    "pfaf['Dappled Shade'] = habitats.str.contains('Dappled Shade')\n",
    "pfaf['Sunny Edge'] = habitats.str.contains('Sunny Edge')\n",
    "pfaf['Ground Cover'] = habitats.str.contains('Ground Cover')\n",
    "pfaf['Meadow'] = habitats.str.contains('Meadow')\n",
    "pfaf['Shady Edge'] = habitats.str.contains('Shady Edge')\n",
    "pfaf['Bog'] = habitats.str.contains('Bog')\n",
    "pfaf['Hedge'] = habitats.str.contains('Hedge')\n",
    "pfaf['Pond'] = habitats.str.contains('Pond')"
   ]
  },
  {
   "cell_type": "code",
   "execution_count": 161,
   "metadata": {},
   "outputs": [],
   "source": [
    "pfaf.drop('Habitats', axis=1, inplace=True)"
   ]
  },
  {
   "cell_type": "code",
   "execution_count": 201,
   "metadata": {},
   "outputs": [],
   "source": [
    "pfaf.to_csv('pfaf_data.csv', index=False)"
   ]
  },
  {
   "cell_type": "markdown",
   "metadata": {},
   "source": [
    "### other uses"
   ]
  },
  {
   "cell_type": "code",
   "execution_count": 202,
   "metadata": {},
   "outputs": [
    {
     "data": {
      "text/plain": [
       "0                                                     \n",
       "1    Gum  Wood\\n\\nThe boughs are fragrant and can b...\n",
       "2    Adhesive  Fibre  Gum  Kindling  Microscope  Re...\n",
       "6                                                     \n",
       "7                                                     \n",
       "Name: Other Uses, dtype: object"
      ]
     },
     "execution_count": 202,
     "metadata": {},
     "output_type": "execute_result"
    }
   ],
   "source": [
    "pfaf['Other Uses'].head()"
   ]
  },
  {
   "cell_type": "code",
   "execution_count": 209,
   "metadata": {},
   "outputs": [],
   "source": [
    "other_uses_cols = pfaf['Other Uses'].str.split('\\n', expand=True)"
   ]
  },
  {
   "cell_type": "code",
   "execution_count": 210,
   "metadata": {},
   "outputs": [
    {
     "data": {
      "text/html": [
       "<div>\n",
       "<style scoped>\n",
       "    .dataframe tbody tr th:only-of-type {\n",
       "        vertical-align: middle;\n",
       "    }\n",
       "\n",
       "    .dataframe tbody tr th {\n",
       "        vertical-align: top;\n",
       "    }\n",
       "\n",
       "    .dataframe thead th {\n",
       "        text-align: right;\n",
       "    }\n",
       "</style>\n",
       "<table border=\"1\" class=\"dataframe\">\n",
       "  <thead>\n",
       "    <tr style=\"text-align: right;\">\n",
       "      <th></th>\n",
       "      <th>0</th>\n",
       "      <th>1</th>\n",
       "      <th>2</th>\n",
       "    </tr>\n",
       "  </thead>\n",
       "  <tbody>\n",
       "    <tr>\n",
       "      <th>0</th>\n",
       "      <td></td>\n",
       "      <td>None</td>\n",
       "      <td>None</td>\n",
       "    </tr>\n",
       "    <tr>\n",
       "      <th>1</th>\n",
       "      <td>Gum  Wood</td>\n",
       "      <td></td>\n",
       "      <td>The boughs are fragrant and can be hung in the...</td>\n",
       "    </tr>\n",
       "    <tr>\n",
       "      <th>2</th>\n",
       "      <td>Adhesive  Fibre  Gum  Kindling  Microscope  Re...</td>\n",
       "      <td></td>\n",
       "      <td>The balsamic resin 'Balm of Gilead'[11, 46] or...</td>\n",
       "    </tr>\n",
       "    <tr>\n",
       "      <th>6</th>\n",
       "      <td></td>\n",
       "      <td>None</td>\n",
       "      <td>None</td>\n",
       "    </tr>\n",
       "    <tr>\n",
       "      <th>7</th>\n",
       "      <td></td>\n",
       "      <td>None</td>\n",
       "      <td>None</td>\n",
       "    </tr>\n",
       "    <tr>\n",
       "      <th>8</th>\n",
       "      <td>Dye  Wood</td>\n",
       "      <td></td>\n",
       "      <td>A tan coloured dye can be obtained from the ba...</td>\n",
       "    </tr>\n",
       "    <tr>\n",
       "      <th>9</th>\n",
       "      <td>Adhesive  Gum  Microscope  Repellent  Resin  S...</td>\n",
       "      <td></td>\n",
       "      <td>Wood - light, soft, coarse grained, not strong...</td>\n",
       "    </tr>\n",
       "    <tr>\n",
       "      <th>10</th>\n",
       "      <td>None known</td>\n",
       "      <td>None</td>\n",
       "      <td>None</td>\n",
       "    </tr>\n",
       "    <tr>\n",
       "      <th>11</th>\n",
       "      <td></td>\n",
       "      <td>None</td>\n",
       "      <td>None</td>\n",
       "    </tr>\n",
       "    <tr>\n",
       "      <th>12</th>\n",
       "      <td>Baby care  Dye  Gum  Incense  Repellent  Roofi...</td>\n",
       "      <td></td>\n",
       "      <td>The aromatic leaves are used as a moth repelle...</td>\n",
       "    </tr>\n",
       "  </tbody>\n",
       "</table>\n",
       "</div>"
      ],
      "text/plain": [
       "                                                    0     1  \\\n",
       "0                                                      None   \n",
       "1                                           Gum  Wood         \n",
       "2   Adhesive  Fibre  Gum  Kindling  Microscope  Re...         \n",
       "6                                                      None   \n",
       "7                                                      None   \n",
       "8                                           Dye  Wood         \n",
       "9   Adhesive  Gum  Microscope  Repellent  Resin  S...         \n",
       "10                                         None known  None   \n",
       "11                                                     None   \n",
       "12  Baby care  Dye  Gum  Incense  Repellent  Roofi...         \n",
       "\n",
       "                                                    2  \n",
       "0                                                None  \n",
       "1   The boughs are fragrant and can be hung in the...  \n",
       "2   The balsamic resin 'Balm of Gilead'[11, 46] or...  \n",
       "6                                                None  \n",
       "7                                                None  \n",
       "8   A tan coloured dye can be obtained from the ba...  \n",
       "9   Wood - light, soft, coarse grained, not strong...  \n",
       "10                                               None  \n",
       "11                                               None  \n",
       "12  The aromatic leaves are used as a moth repelle...  "
      ]
     },
     "execution_count": 210,
     "metadata": {},
     "output_type": "execute_result"
    }
   ],
   "source": [
    "other_uses_cols[:10]"
   ]
  },
  {
   "cell_type": "code",
   "execution_count": 211,
   "metadata": {},
   "outputs": [
    {
     "data": {
      "text/plain": [
       "count     803\n",
       "unique      1\n",
       "top          \n",
       "freq      803\n",
       "Name: 1, dtype: object"
      ]
     },
     "execution_count": 211,
     "metadata": {},
     "output_type": "execute_result"
    }
   ],
   "source": [
    "other_uses_cols[1].describe()"
   ]
  },
  {
   "cell_type": "code",
   "execution_count": 227,
   "metadata": {},
   "outputs": [],
   "source": [
    "other_uses_cols.fillna('', inplace=True)"
   ]
  },
  {
   "cell_type": "code",
   "execution_count": 219,
   "metadata": {},
   "outputs": [],
   "source": [
    "other_uses_cols[1] = np.where(other_uses_cols[0].str.contains('\\.'), other_uses_cols[0], '')\n",
    "other_uses_cols[0] = np.where(other_uses_cols[1]=='', other_uses_cols[0], '')"
   ]
  },
  {
   "cell_type": "code",
   "execution_count": 228,
   "metadata": {},
   "outputs": [],
   "source": [
    "other_uses_cols[1] = other_uses_cols[1] + other_uses_cols[2]"
   ]
  },
  {
   "cell_type": "code",
   "execution_count": 230,
   "metadata": {},
   "outputs": [],
   "source": [
    "other_uses_cols.drop(2, axis=1, inplace=True)"
   ]
  },
  {
   "cell_type": "code",
   "execution_count": 238,
   "metadata": {},
   "outputs": [
    {
     "data": {
      "text/plain": [
       "[('', 5628),\n",
       " ('None', 584),\n",
       " ('known', 584),\n",
       " ('Dye', 274),\n",
       " ('Wood', 266),\n",
       " ('Repellent', 107),\n",
       " ('Fibre', 85),\n",
       " ('Oil', 80),\n",
       " ('Hedge', 78),\n",
       " ('Soil', 77),\n",
       " ('Tannin', 77),\n",
       " ('Miscellany', 72),\n",
       " ('Basketry', 71),\n",
       " ('Fuel', 70),\n",
       " ('stabilization', 66),\n",
       " ('Gum', 61),\n",
       " ('Soap', 50),\n",
       " ('Hair', 41),\n",
       " ('Herbicide', 38),\n",
       " ('Shelterbelt', 35),\n",
       " ('Incense', 32),\n",
       " ('Parasiticide', 32),\n",
       " ('Essential', 31),\n",
       " ('Latex', 30),\n",
       " ('Stuffing', 29),\n",
       " ('Weaving', 26),\n",
       " ('Paper', 25),\n",
       " ('Resin', 23),\n",
       " ('String', 23),\n",
       " ('Adhesive', 22),\n",
       " ('Disinfectant', 22),\n",
       " ('Insecticide', 22),\n",
       " ('Pioneer', 19),\n",
       " ('Broom', 18),\n",
       " ('Tinder', 18),\n",
       " ('Mordant', 17),\n",
       " ('Rootstock', 16),\n",
       " ('Charcoal', 15),\n",
       " ('Brush', 15),\n",
       " ('Waterproofing', 13),\n",
       " ('Pollution', 13),\n",
       " ('Companion', 12),\n",
       " ('Cosmetic', 12),\n",
       " ('Musical', 12),\n",
       " ('Preservative', 11),\n",
       " ('Thatching', 11),\n",
       " ('Beads', 11),\n",
       " ('Baby', 10),\n",
       " ('care', 10),\n",
       " ('Fungicide', 10),\n",
       " ('Wick', 9),\n",
       " ('Insulation', 9),\n",
       " ('Pitch', 9),\n",
       " ('Containers', 8),\n",
       " ('Needles', 8),\n",
       " ('Teeth', 8),\n",
       " ('Ink', 8),\n",
       " ('Compost', 7),\n",
       " ('reclamation', 7),\n",
       " ('Biomass', 7),\n",
       " ('Pectin', 7),\n",
       " ('Roofing', 5),\n",
       " ('Scourer', 5),\n",
       " ('Liquid', 5),\n",
       " ('feed', 5),\n",
       " ('Rust', 5),\n",
       " ('Lighting', 5),\n",
       " ('Lining', 5),\n",
       " ('Bedding', 5),\n",
       " ('Wax', 5),\n",
       " ('Green', 5),\n",
       " ('manure', 5),\n",
       " ('Strewing', 5),\n",
       " ('Rooting', 5),\n",
       " ('hormone', 5),\n",
       " ('Kindling', 4),\n",
       " ('Microscope', 4),\n",
       " ('Deodorant', 4),\n",
       " ('Paint', 4),\n",
       " ('conditioner', 4),\n",
       " ('Sandpaper', 4),\n",
       " ('Pot-pourri', 4),\n",
       " ('Buttons', 4),\n",
       " ('Potash', 3),\n",
       " ('Straw', 3),\n",
       " ('Starch', 3),\n",
       " ('Varnish', 3),\n",
       " ('Polish', 3),\n",
       " ('Cleanser', 3),\n",
       " ('Litmus', 3),\n",
       " ('Plaster', 3),\n",
       " ('Pipes', 3),\n",
       " ('Friction', 2),\n",
       " ('sticks', 2),\n",
       " ('Pins', 2),\n",
       " ('Fire', 2),\n",
       " ('retardant', 2),\n",
       " ('Filter', 2),\n",
       " ('paper', 2),\n",
       " ('Fertilizer', 2),\n",
       " ('Packing', 2),\n",
       " ('Cork', 2),\n",
       " ('Besom', 1),\n",
       " ('Darning', 1),\n",
       " ('ball', 1),\n",
       " ('Blotting', 1),\n",
       " ('Other', 1),\n",
       " ('Uses', 1),\n",
       " ('Waxed', 1),\n",
       " ('Fruit', 1),\n",
       " ('ripening', 1),\n",
       " ('making', 1)]"
      ]
     },
     "execution_count": 238,
     "metadata": {},
     "output_type": "execute_result"
    }
   ],
   "source": [
    "other_uses_counter = Counter()\n",
    "other_uses_cols[0].str.split(' ').apply(other_uses_counter.update)\n",
    "common_uses = other_uses_counter.most_common()\n",
    "common_uses"
   ]
  },
  {
   "cell_type": "code",
   "execution_count": 240,
   "metadata": {},
   "outputs": [],
   "source": [
    "pfaf['Oil other uses'] = other_uses_cols[0].str.contains('Oil')"
   ]
  },
  {
   "cell_type": "code",
   "execution_count": 242,
   "metadata": {},
   "outputs": [],
   "source": [
    "del other_uses_counter['']\n",
    "del other_uses_counter['None']\n",
    "del other_uses_counter['known']\n",
    "del other_uses_counter['Oil']\n",
    "del other_uses_counter['Soil']\n",
    "other_uses_counter['Soil stabilization'] = other_uses_counter['stabilization']\n",
    "del other_uses_counter['stabilization']\n",
    "other_uses_counter['Baby care'] = other_uses_counter['Baby']\n",
    "del other_uses_counter['Baby']\n",
    "del other_uses_counter['care']\n",
    "other_uses_counter['Soil reclamation'] = other_uses_counter['reclamation']\n",
    "del other_uses_counter['reclamation']\n",
    "other_uses_counter['Liquid feed'] = other_uses_counter['Liquid']\n",
    "del other_uses_counter['Liquid']\n",
    "del other_uses_counter['feed']\n",
    "other_uses_counter['Green manure'] = other_uses_counter['Green']\n",
    "del other_uses_counter['Green']\n",
    "del other_uses_counter['manure']\n",
    "other_uses_counter['Rooting hormone'] = other_uses_counter['Rooting']\n",
    "del other_uses_counter['Rooting']\n",
    "del other_uses_counter['hormone']\n",
    "del other_uses_counter['Deodorant']\n",
    "other_uses_counter['Soil conditioner'] = other_uses_counter['conditioner']\n",
    "del other_uses_counter['conditioner']\n",
    "other_uses_counter['Friction sticks'] = other_uses_counter['Friction']\n",
    "del other_uses_counter['Friction']\n",
    "del other_uses_counter['sticks']\n",
    "other_uses_counter['Fire retardant'] = other_uses_counter['Fire']\n",
    "del other_uses_counter['Fire']\n",
    "del other_uses_counter['retardant']\n",
    "del other_uses_counter['paper']\n",
    "other_uses_counter = {k:v for k,v in other_uses_counter.items() if k not in ['Besom',\n",
    "                      'Darning', 'ball', 'Blotting', 'Other', 'Uses', 'Waxed', 'Fruit', \n",
    "                      'ripening', 'making']}"
   ]
  },
  {
   "cell_type": "code",
   "execution_count": 243,
   "metadata": {},
   "outputs": [],
   "source": [
    "for k in other_uses_counter.keys():\n",
    "    pfaf[k] = other_uses_cols[0].str.contains(k)"
   ]
  },
  {
   "cell_type": "code",
   "execution_count": 244,
   "metadata": {},
   "outputs": [],
   "source": [
    "pfaf['Other uses description'] = other_uses_cols[1]\n",
    "pfaf.drop('Other Uses', axis=1, inplace=True)"
   ]
  },
  {
   "cell_type": "code",
   "execution_count": 248,
   "metadata": {},
   "outputs": [],
   "source": [
    "to_drop = []\n",
    "pfaf['Fertilizer'] = (pfaf['Green manure'] | pfaf['Fertilizer'] | \n",
    "                      pfaf['Liquid feed'] | pfaf['Soil conditioner'])\n",
    "to_drop = to_drop + ['Green manure', 'Liquid feed', 'Soil conditioner']\n",
    "pfaf['Kindling'] = (pfaf['Kindling'] | pfaf['Tinder'])\n",
    "to_drop.append('Tinder')\n",
    "pfaf['Fibre'] = (pfaf['Fibre'] | pfaf['String'])\n",
    "to_drop.append('String')\n",
    "pfaf['Building material'] = (pfaf['Insulation'] | pfaf['Pipes'] | pfaf['Pitch'] | \n",
    "                             pfaf['Plaster'] | pfaf['Roofing'] | pfaf['Thatching'])\n",
    "to_drop = to_drop + ['Insulation', 'Pipes', 'Pitch', 'Plaster', 'Roofing', 'Thatching']\n",
    "pfaf['Sewing'] = (pfaf['Buttons'] | pfaf['Needles'] | pfaf['Pins'] | pfaf['Starch'] | \n",
    "                  pfaf['Stuffing'])\n",
    "to_drop = to_drop + ['Buttons', 'Needles', 'Pins', 'Starch', 'Stuffing']\n",
    "pfaf['Miscellany'] = (pfaf['Miscellany'] | pfaf['Microscope'] | pfaf['Bedding'] | \n",
    "                      pfaf['Brush'] | pfaf['Lining'] | pfaf['Packing'] | \n",
    "                      pfaf['Scourer'] | pfaf['Strewing'] | pfaf['Filter'] | \n",
    "                      pfaf['Straw'] | pfaf['Litmus'])\n",
    "to_drop = to_drop + ['Microscope', 'Bedding', 'Brush', 'Lining', 'Packing', 'Scourer', \n",
    "                     'Strewing', 'Filter', 'Straw', 'Litmus']\n",
    "pfaf['Weaving'] = (pfaf['Weaving'] | pfaf['Basketry'])\n",
    "pfaf = pfaf.rename({'Essential': 'Essential oil', 'Teeth': 'Tooth care', \n",
    "             'Shelterbelt': 'Windbreak', 'Rust': 'Rust treatment'}, axis=1)\n",
    "pfaf.drop(to_drop, axis=1, inplace=True)"
   ]
  },
  {
   "cell_type": "code",
   "execution_count": 249,
   "metadata": {},
   "outputs": [],
   "source": [
    "pfaf.to_csv('pfaf_data.csv', index=False)"
   ]
  },
  {
   "cell_type": "markdown",
   "metadata": {},
   "source": [
    "### special uses"
   ]
  },
  {
   "cell_type": "code",
   "execution_count": 254,
   "metadata": {},
   "outputs": [],
   "source": [
    "# special uses section was not captured by previous scrape. \n",
    "import selenium\n",
    "from selenium.webdriver import Firefox\n",
    "from selenium.webdriver.firefox.options import Options\n",
    "from selenium.webdriver.support.ui import WebDriverWait\n",
    "from selenium.webdriver.support import expected_conditions as EC\n",
    "from selenium.webdriver.common.by import By"
   ]
  },
  {
   "cell_type": "code",
   "execution_count": 272,
   "metadata": {},
   "outputs": [],
   "source": [
    "options = Options()\n",
    "options.headless = True\n",
    "driver = Firefox(options=options)"
   ]
  },
  {
   "cell_type": "code",
   "execution_count": 283,
   "metadata": {},
   "outputs": [],
   "source": [
    "special_uses_df = pd.DataFrame()\n",
    "length = len(pfaf)\n",
    "for i, (genus,species) in enumerate(pfaf[['Genus', 'Species']].values):\n",
    "    if i % 100 == 0:\n",
    "        driver.quit()\n",
    "        driver = Firefox(options=options)\n",
    "        print(f'\\n {i}/{length}')\n",
    "    elif i % 5 == 0:\n",
    "        print('.', end='')\n",
    "    special_uses = {'Genus': genus, 'Species': species}\n",
    "    driver.get(f'https://pfaf.org/user/Plant.aspx?LatinName={genus}+{species}')\n",
    "    special_uses['Special uses'] = driver.find_element_by_xpath('//h3[contains('\n",
    "        'text(), \"Special Uses\")]/following-sibling::*/descendant::span').text\n",
    "    special_uses_df = special_uses_df.append(special_uses, ignore_index=True)\n",
    "driver.quit()\n",
    "pfaf = pfaf.merge(special_uses_df, on=['Genus', 'Species'])"
   ]
  },
  {
   "cell_type": "code",
   "execution_count": 282,
   "metadata": {},
   "outputs": [],
   "source": [
    "pfaf.to_csv('pfaf_data.csv', index=False)"
   ]
  },
  {
   "cell_type": "code",
   "execution_count": 307,
   "metadata": {},
   "outputs": [
    {
     "data": {
      "text/plain": [
       "[('', 5336),\n",
       " ('food', 335),\n",
       " ('forest', 335),\n",
       " ('scented', 201),\n",
       " ('plants', 201),\n",
       " ('ground', 112),\n",
       " ('cover', 112),\n",
       " ('attracts', 103),\n",
       " ('wildlife', 103),\n",
       " ('carbon', 90),\n",
       " ('farming', 90),\n",
       " ('hedge', 78),\n",
       " ('nitrogen', 74),\n",
       " ('fixer', 74),\n",
       " ('dynamic', 44),\n",
       " ('accumulator', 44)]"
      ]
     },
     "execution_count": 307,
     "metadata": {},
     "output_type": "execute_result"
    }
   ],
   "source": [
    "special_use_counter = Counter()\n",
    "pfaf['Special uses'].str.lower().str.split(' ').apply(special_use_counter.update)\n",
    "special_use_counter.most_common()"
   ]
  },
  {
   "cell_type": "code",
   "execution_count": 322,
   "metadata": {},
   "outputs": [],
   "source": [
    "special_uses = ['Food forest', 'Scented plants', 'Ground cover', 'Attracts wildlife', \n",
    "                'Carbon farming', 'Nitrogen fixer', 'Dynamic accumulator']"
   ]
  },
  {
   "cell_type": "code",
   "execution_count": 323,
   "metadata": {},
   "outputs": [],
   "source": [
    "for use in special_uses:\n",
    "    pfaf[use] = pfaf['Special uses'].str.lower().str.contains(use.lower())"
   ]
  },
  {
   "cell_type": "code",
   "execution_count": 337,
   "metadata": {},
   "outputs": [
    {
     "data": {
      "text/html": [
       "<div>\n",
       "<style scoped>\n",
       "    .dataframe tbody tr th:only-of-type {\n",
       "        vertical-align: middle;\n",
       "    }\n",
       "\n",
       "    .dataframe tbody tr th {\n",
       "        vertical-align: top;\n",
       "    }\n",
       "\n",
       "    .dataframe thead th {\n",
       "        text-align: right;\n",
       "    }\n",
       "</style>\n",
       "<table border=\"1\" class=\"dataframe\">\n",
       "  <thead>\n",
       "    <tr style=\"text-align: right;\">\n",
       "      <th></th>\n",
       "      <th>Food forest</th>\n",
       "      <th>Scented plants</th>\n",
       "      <th>Ground cover</th>\n",
       "      <th>Attracts wildlife</th>\n",
       "      <th>Carbon farming</th>\n",
       "      <th>Nitrogen fixer</th>\n",
       "      <th>Dynamic accumulator</th>\n",
       "    </tr>\n",
       "  </thead>\n",
       "  <tbody>\n",
       "    <tr>\n",
       "      <th>count</th>\n",
       "      <td>5577</td>\n",
       "      <td>5577</td>\n",
       "      <td>5577</td>\n",
       "      <td>5577</td>\n",
       "      <td>5577</td>\n",
       "      <td>5577</td>\n",
       "      <td>5577</td>\n",
       "    </tr>\n",
       "    <tr>\n",
       "      <th>unique</th>\n",
       "      <td>2</td>\n",
       "      <td>2</td>\n",
       "      <td>2</td>\n",
       "      <td>2</td>\n",
       "      <td>2</td>\n",
       "      <td>2</td>\n",
       "      <td>2</td>\n",
       "    </tr>\n",
       "    <tr>\n",
       "      <th>top</th>\n",
       "      <td>False</td>\n",
       "      <td>False</td>\n",
       "      <td>False</td>\n",
       "      <td>False</td>\n",
       "      <td>False</td>\n",
       "      <td>False</td>\n",
       "      <td>False</td>\n",
       "    </tr>\n",
       "    <tr>\n",
       "      <th>freq</th>\n",
       "      <td>5243</td>\n",
       "      <td>5376</td>\n",
       "      <td>5465</td>\n",
       "      <td>5474</td>\n",
       "      <td>5487</td>\n",
       "      <td>5503</td>\n",
       "      <td>5533</td>\n",
       "    </tr>\n",
       "  </tbody>\n",
       "</table>\n",
       "</div>"
      ],
      "text/plain": [
       "       Food forest Scented plants Ground cover Attracts wildlife  \\\n",
       "count         5577           5577         5577              5577   \n",
       "unique           2              2            2                 2   \n",
       "top          False          False        False             False   \n",
       "freq          5243           5376         5465              5474   \n",
       "\n",
       "       Carbon farming Nitrogen fixer Dynamic accumulator  \n",
       "count            5577           5577                5577  \n",
       "unique              2              2                   2  \n",
       "top             False          False               False  \n",
       "freq             5487           5503                5533  "
      ]
     },
     "execution_count": 337,
     "metadata": {},
     "output_type": "execute_result"
    }
   ],
   "source": [
    "pfaf[special_uses].describe()"
   ]
  },
  {
   "cell_type": "code",
   "execution_count": 381,
   "metadata": {},
   "outputs": [],
   "source": [
    "pfaf.drop('special uses', axis=1, inplace=True)"
   ]
  },
  {
   "cell_type": "code",
   "execution_count": 338,
   "metadata": {},
   "outputs": [],
   "source": [
    "pfaf.to_csv('pfaf_data.csv', index=False)"
   ]
  },
  {
   "cell_type": "markdown",
   "metadata": {},
   "source": [
    "### hardiness zone, care"
   ]
  },
  {
   "cell_type": "code",
   "execution_count": 352,
   "metadata": {},
   "outputs": [
    {
     "data": {
      "text/html": [
       "<div>\n",
       "<style scoped>\n",
       "    .dataframe tbody tr th:only-of-type {\n",
       "        vertical-align: middle;\n",
       "    }\n",
       "\n",
       "    .dataframe tbody tr th {\n",
       "        vertical-align: top;\n",
       "    }\n",
       "\n",
       "    .dataframe thead th {\n",
       "        text-align: right;\n",
       "    }\n",
       "</style>\n",
       "<table border=\"1\" class=\"dataframe\">\n",
       "  <thead>\n",
       "    <tr style=\"text-align: right;\">\n",
       "      <th></th>\n",
       "      <th>0</th>\n",
       "      <th>1</th>\n",
       "      <th>2</th>\n",
       "      <th>3</th>\n",
       "    </tr>\n",
       "  </thead>\n",
       "  <tbody>\n",
       "    <tr>\n",
       "      <th>0</th>\n",
       "      <td></td>\n",
       "      <td>None</td>\n",
       "      <td>None</td>\n",
       "      <td>None</td>\n",
       "    </tr>\n",
       "    <tr>\n",
       "      <th>1</th>\n",
       "      <td></td>\n",
       "      <td>4</td>\n",
       "      <td>8</td>\n",
       "      <td></td>\n",
       "    </tr>\n",
       "    <tr>\n",
       "      <th>2</th>\n",
       "      <td></td>\n",
       "      <td>3</td>\n",
       "      <td>6</td>\n",
       "      <td></td>\n",
       "    </tr>\n",
       "    <tr>\n",
       "      <th>3</th>\n",
       "      <td></td>\n",
       "      <td>None</td>\n",
       "      <td>None</td>\n",
       "      <td>None</td>\n",
       "    </tr>\n",
       "    <tr>\n",
       "      <th>4</th>\n",
       "      <td></td>\n",
       "      <td>None</td>\n",
       "      <td>None</td>\n",
       "      <td>None</td>\n",
       "    </tr>\n",
       "  </tbody>\n",
       "</table>\n",
       "</div>"
      ],
      "text/plain": [
       "  0     1     2     3\n",
       "0    None  None  None\n",
       "1       4     8      \n",
       "2       3     6      \n",
       "3    None  None  None\n",
       "4    None  None  None"
      ]
     },
     "execution_count": 352,
     "metadata": {},
     "output_type": "execute_result"
    }
   ],
   "source": [
    "hardiness = pfaf['USDA hardiness'].str.split(r'([0-9]+)-([0-9]+)',expand=True)\n",
    "hardiness.head()"
   ]
  },
  {
   "cell_type": "code",
   "execution_count": 354,
   "metadata": {},
   "outputs": [
    {
     "name": "stdout",
     "output_type": "stream",
     "text": [
      "               5198\n",
      "Coming soon     379\n",
      "Name: 0, dtype: int64\n",
      "4     394\n",
      "3     230\n",
      "5     201\n",
      "6     127\n",
      "7     110\n",
      "8      60\n",
      "2      32\n",
      "10     19\n",
      "9      16\n",
      "1       4\n",
      "Name: 1, dtype: int64\n",
      "9     374\n",
      "8     368\n",
      "7     170\n",
      "10    138\n",
      "11     85\n",
      "12     27\n",
      "6      24\n",
      "5       6\n",
      "4       1\n",
      "Name: 2, dtype: int64\n",
      "    1193\n",
      "Name: 3, dtype: int64\n"
     ]
    }
   ],
   "source": [
    "for i in hardiness.columns:\n",
    "    print(hardiness[i].value_counts())"
   ]
  },
  {
   "cell_type": "code",
   "execution_count": 356,
   "metadata": {},
   "outputs": [],
   "source": [
    "hardiness.drop([0, 3], axis=1, inplace=True)"
   ]
  },
  {
   "cell_type": "code",
   "execution_count": 359,
   "metadata": {},
   "outputs": [],
   "source": [
    "pfaf['Min zone'] = hardiness[1]\n",
    "pfaf['Max zone'] = hardiness[2]"
   ]
  },
  {
   "cell_type": "code",
   "execution_count": 366,
   "metadata": {},
   "outputs": [],
   "source": [
    "pfaf = pfaf.rename({c: c.lower() for c in pfaf.columns}, axis=1)"
   ]
  },
  {
   "cell_type": "code",
   "execution_count": 379,
   "metadata": {},
   "outputs": [],
   "source": [
    "pfaf.drop('usda hardiness', axis=1, inplace=True)"
   ]
  },
  {
   "cell_type": "code",
   "execution_count": 374,
   "metadata": {},
   "outputs": [
    {
     "data": {
      "text/plain": [
       "0                                                   []\n",
       "1    ['Fully Hardy', 'Moist Soil', 'Full shade', 'S...\n",
       "2    ['Fully Hardy', 'Moist Soil', 'Full shade', 'S...\n",
       "3                                                   []\n",
       "4                                                   []\n",
       "Name: care, dtype: object"
      ]
     },
     "execution_count": 374,
     "metadata": {},
     "output_type": "execute_result"
    }
   ],
   "source": [
    "pfaf['care'][~(pfaf['care']=='')].head()"
   ]
  },
  {
   "cell_type": "code",
   "execution_count": 375,
   "metadata": {},
   "outputs": [
    {
     "data": {
      "text/plain": [
       "[('Moist Soil', 1494),\n",
       " ('Full sun', 1455),\n",
       " ('Fully Hardy', 1051),\n",
       " ('Semi-shade', 969),\n",
       " ('Well drained soil', 552),\n",
       " ('Wet Soil', 226),\n",
       " ('Full shade', 125),\n",
       " ('Frost Hardy', 116),\n",
       " ('Water Plants', 76),\n",
       " ('Half Hardy', 42),\n",
       " ('Tender', 25)]"
      ]
     },
     "execution_count": 375,
     "metadata": {},
     "output_type": "execute_result"
    }
   ],
   "source": [
    "care_counter = Counter()\n",
    "\n",
    "def get_care(l):\n",
    "    care_counter.update(eval(l))\n",
    "    \n",
    "pfaf['care'].apply(get_care)\n",
    "care_counter.most_common()"
   ]
  },
  {
   "cell_type": "code",
   "execution_count": 376,
   "metadata": {},
   "outputs": [],
   "source": [
    "for k in care_counter.keys():\n",
    "    pfaf[k.lower()] = pfaf['care'].str.contains(k)"
   ]
  },
  {
   "cell_type": "code",
   "execution_count": 378,
   "metadata": {},
   "outputs": [
    {
     "data": {
      "text/plain": [
       "count      5577\n",
       "unique        2\n",
       "top       False\n",
       "freq       4083\n",
       "Name: moist soil, dtype: object"
      ]
     },
     "execution_count": 378,
     "metadata": {},
     "output_type": "execute_result"
    }
   ],
   "source": [
    "pfaf['moist soil'].describe()"
   ]
  },
  {
   "cell_type": "code",
   "execution_count": 380,
   "metadata": {},
   "outputs": [],
   "source": [
    "pfaf.drop('care', axis=1, inplace=True)"
   ]
  },
  {
   "cell_type": "code",
   "execution_count": 382,
   "metadata": {},
   "outputs": [],
   "source": [
    "pfaf.to_csv('pfaf_data.csv', index=False)"
   ]
  },
  {
   "cell_type": "markdown",
   "metadata": {},
   "source": [
    "### cultivation details"
   ]
  },
  {
   "cell_type": "code",
   "execution_count": 124,
   "metadata": {},
   "outputs": [],
   "source": [
    "staples = ['protein', 'carb', 'oil', 'sugar']\n",
    "industrial = ['fiber', 'hydrocarbon', 'pesticide', 'wax']\n",
    "agro = ['nitrogen', 'windbreak', 'living trellis', 'understory legume']\n",
    "management = ['coppice', 'hay', 'fodder']"
   ]
  },
  {
   "cell_type": "code",
   "execution_count": 146,
   "metadata": {},
   "outputs": [],
   "source": [
    "cultivation['text'] = cultivation['text'].apply(lambda x: x.lower())"
   ]
  },
  {
   "cell_type": "code",
   "execution_count": 149,
   "metadata": {},
   "outputs": [],
   "source": [
    "for col in staples:\n",
    "    cultivation[f'staple {col}'] = cultivation['text'].str.contains(col)\n",
    "for col in industrial:\n",
    "    cultivation[col] = cultivation['text'].str.contains(col)\n",
    "for col in agro:\n",
    "    cultivation[col] = cultivation['text'].str.contains(col)\n",
    "for col in management:\n",
    "    cultivation[col] = cultivation['text'].str.contains(col)"
   ]
  },
  {
   "cell_type": "code",
   "execution_count": 156,
   "metadata": {},
   "outputs": [],
   "source": [
    "word_cols = [c for c in cultivation.columns if c not in ['text', 'genus', 'species']]"
   ]
  },
  {
   "cell_type": "code",
   "execution_count": 158,
   "metadata": {},
   "outputs": [
    {
     "data": {
      "text/plain": [
       "staple oil           1408\n",
       "nitrogen               90\n",
       "staple carb            51\n",
       "coppice                31\n",
       "hay                    26\n",
       "hydrocarbon            23\n",
       "staple protein         21\n",
       "fodder                 19\n",
       "fiber                  12\n",
       "staple sugar            7\n",
       "windbreak               5\n",
       "wax                     4\n",
       "pesticide               3\n",
       "understory legume       2\n",
       "living trellis          0\n",
       "dtype: int64"
      ]
     },
     "execution_count": 158,
     "metadata": {},
     "output_type": "execute_result"
    }
   ],
   "source": [
    "uses = cultivation[word_cols].sum()\n",
    "uses = uses.sort_values(ascending=False)\n",
    "uses"
   ]
  },
  {
   "cell_type": "code",
   "execution_count": 165,
   "metadata": {},
   "outputs": [],
   "source": [
    "pfaf = pfaf.rename({'fibre': 'fiber'}, axis=1)"
   ]
  },
  {
   "cell_type": "code",
   "execution_count": 192,
   "metadata": {},
   "outputs": [],
   "source": [
    "pfaf['nitrogen fixer'] = (pfaf['nitrogen fixer'] | cultivation['nitrogen'])\n",
    "pfaf['edible use carb'] = cultivation['staple carb']\n",
    "pfaf['coppice'] = cultivation['coppice']\n",
    "pfaf['hay'] = cultivation['hay']\n",
    "pfaf['hydrocarbon'] = cultivation['hydrocarbon']\n",
    "pfaf['edible use protein'] = cultivation['staple protein']\n",
    "pfaf['fodder'] = cultivation['fodder']\n",
    "pfaf['fiber'] = (pfaf['fiber'] | cultivation['fiber'])\n",
    "pfaf['edible use sweetener'] = (pfaf['edible use sweetener'] | \n",
    "                                cultivation['staple sugar'])\n",
    "pfaf['windbreak'] = (pfaf['windbreak'] | cultivation['windbreak'])\n",
    "pfaf['wax'] = (pfaf['wax'] | cultivation['wax'])\n",
    "pfaf['pesticide'] = cultivation['pesticide']"
   ]
  },
  {
   "cell_type": "code",
   "execution_count": 193,
   "metadata": {},
   "outputs": [],
   "source": [
    "pfaf.to_csv('pfaf_data.csv', index=False)"
   ]
  },
  {
   "cell_type": "markdown",
   "metadata": {},
   "source": [
    "### physical characteristics"
   ]
  },
  {
   "cell_type": "code",
   "execution_count": 20,
   "metadata": {},
   "outputs": [],
   "source": [
    "import nltk\n",
    "from nltk.corpus import stopwords, wordnet\n",
    "from nltk import stem\n",
    "from nltk.tokenize import word_tokenize, sent_tokenize\n",
    "from sklearn.feature_extraction.text import CountVectorizer\n",
    "from sklearn.cluster import KMeans"
   ]
  },
  {
   "cell_type": "code",
   "execution_count": 23,
   "metadata": {},
   "outputs": [],
   "source": [
    "pfaf = pd.read_csv('pfaf_data.csv')"
   ]
  },
  {
   "cell_type": "code",
   "execution_count": 24,
   "metadata": {},
   "outputs": [],
   "source": [
    "physical = pd.DataFrame()\n",
    "physical['text'] = pfaf['physical characteristics'].replace({r'\\[([0-9]+(, )*)+[0-9]*\\ *\\]': \n",
    "                                                           ''}, regex=True)\n",
    "physical['genus'] = pfaf['genus']\n",
    "physical['species'] = pfaf['species']"
   ]
  },
  {
   "cell_type": "code",
   "execution_count": 25,
   "metadata": {},
   "outputs": [],
   "source": [
    "physical.fillna('', inplace=True)"
   ]
  },
  {
   "cell_type": "code",
   "execution_count": 11,
   "metadata": {},
   "outputs": [
    {
     "data": {
      "text/html": [
       "<div>\n",
       "<style scoped>\n",
       "    .dataframe tbody tr th:only-of-type {\n",
       "        vertical-align: middle;\n",
       "    }\n",
       "\n",
       "    .dataframe tbody tr th {\n",
       "        vertical-align: top;\n",
       "    }\n",
       "\n",
       "    .dataframe thead th {\n",
       "        text-align: right;\n",
       "    }\n",
       "</style>\n",
       "<table border=\"1\" class=\"dataframe\">\n",
       "  <thead>\n",
       "    <tr style=\"text-align: right;\">\n",
       "      <th></th>\n",
       "      <th>text</th>\n",
       "      <th>genus</th>\n",
       "      <th>species</th>\n",
       "    </tr>\n",
       "  </thead>\n",
       "  <tbody>\n",
       "    <tr>\n",
       "      <th>1</th>\n",
       "      <td>Abies amabilis is an evergreen Tree growing to...</td>\n",
       "      <td>Abies</td>\n",
       "      <td>amabilis</td>\n",
       "    </tr>\n",
       "    <tr>\n",
       "      <th>2</th>\n",
       "      <td>Abies balsamea is an evergreen Tree growing to...</td>\n",
       "      <td>Abies</td>\n",
       "      <td>balsamea</td>\n",
       "    </tr>\n",
       "    <tr>\n",
       "      <th>5</th>\n",
       "      <td>Abies concolor is an evergreen Tree growing to...</td>\n",
       "      <td>Abies</td>\n",
       "      <td>concolor</td>\n",
       "    </tr>\n",
       "    <tr>\n",
       "      <th>6</th>\n",
       "      <td>Abies fraseri is an evergreen Tree growing to ...</td>\n",
       "      <td>Abies</td>\n",
       "      <td>fraseri</td>\n",
       "    </tr>\n",
       "    <tr>\n",
       "      <th>7</th>\n",
       "      <td>Abronia fragrans is a PERENNIAL growing to 0.6...</td>\n",
       "      <td>Abronia</td>\n",
       "      <td>fragrans</td>\n",
       "    </tr>\n",
       "  </tbody>\n",
       "</table>\n",
       "</div>"
      ],
      "text/plain": [
       "                                                text    genus   species\n",
       "1  Abies amabilis is an evergreen Tree growing to...    Abies  amabilis\n",
       "2  Abies balsamea is an evergreen Tree growing to...    Abies  balsamea\n",
       "5  Abies concolor is an evergreen Tree growing to...    Abies  concolor\n",
       "6  Abies fraseri is an evergreen Tree growing to ...    Abies   fraseri\n",
       "7  Abronia fragrans is a PERENNIAL growing to 0.6...  Abronia  fragrans"
      ]
     },
     "execution_count": 11,
     "metadata": {},
     "output_type": "execute_result"
    }
   ],
   "source": [
    "physical[physical['text']!=''].head()"
   ]
  },
  {
   "cell_type": "code",
   "execution_count": 13,
   "metadata": {},
   "outputs": [
    {
     "data": {
      "text/plain": [
       "CountVectorizer(stop_words='english')"
      ]
     },
     "execution_count": 13,
     "metadata": {},
     "output_type": "execute_result"
    }
   ],
   "source": [
    "count_vec = CountVectorizer(stop_words='english')\n",
    "count_vec.fit(physical['text'])"
   ]
  },
  {
   "cell_type": "code",
   "execution_count": 14,
   "metadata": {},
   "outputs": [],
   "source": [
    "def vectorize(text, genus, species):\n",
    "    sentences = sent_tokenize(text)\n",
    "    vectors = count_vec.transform(sentences)\n",
    "    vector_df = pd.DataFrame(data=vectors.toarray(), columns=count_vec.get_feature_names())\n",
    "    vector_df['genus'] = genus\n",
    "    vector_df['species'] = species\n",
    "    return vector_df"
   ]
  },
  {
   "cell_type": "code",
   "execution_count": 15,
   "metadata": {},
   "outputs": [],
   "source": [
    "all_sentences = pd.DataFrame()\n",
    "for _, (text, genus, species) in enumerate(physical.values):\n",
    "    if text:\n",
    "        vector_df = vectorize(text, genus, species)\n",
    "        all_sentences = all_sentences.append(vector_df, ignore_index=True)"
   ]
  },
  {
   "cell_type": "code",
   "execution_count": 16,
   "metadata": {},
   "outputs": [
    {
     "data": {
      "text/plain": [
       "(12915, 1867)"
      ]
     },
     "execution_count": 16,
     "metadata": {},
     "output_type": "execute_result"
    }
   ],
   "source": [
    "all_sentences.shape"
   ]
  },
  {
   "cell_type": "code",
   "execution_count": 70,
   "metadata": {},
   "outputs": [],
   "source": [
    "word_cols = [c for c in all_sentences.columns if c not in ['text', 'genus', 'species']]"
   ]
  },
  {
   "cell_type": "code",
   "execution_count": 26,
   "metadata": {},
   "outputs": [
    {
     "name": "stdout",
     "output_type": "stream",
     "text": [
      "5 40916.005191324235\n",
      "10 26379.292550087193\n",
      "15 21520.343876857503\n",
      "20 17972.838508140943\n",
      "25 15759.80111973535\n",
      "30 14297.352107535062\n",
      "35 12704.999583251705\n",
      "40 11977.035376253176\n",
      "45 10902.311930137515\n",
      "50 10332.808488945626\n"
     ]
    }
   ],
   "source": [
    "scores = []\n",
    "for i in range(5,55,5):\n",
    "    km = KMeans(n_clusters=i)\n",
    "    clusters = km.fit_transform(all_sentences[word_cols])\n",
    "    scores.append((km, i, km.inertia_))\n",
    "    print(i, km.inertia_)"
   ]
  },
  {
   "cell_type": "code",
   "execution_count": 27,
   "metadata": {},
   "outputs": [
    {
     "data": {
      "image/png": "[encoded data removed]",
      "text/plain": [
       "<Figure size 432x288 with 1 Axes>"
      ]
     },
     "metadata": {
      "needs_background": "light"
     },
     "output_type": "display_data"
    }
   ],
   "source": [
    "import matplotlib.pyplot as plt\n",
    "\n",
    "plt.plot([i[1] for i in scores], [i[2] for i in scores])\n",
    "plt.show()"
   ]
  },
  {
   "cell_type": "code",
   "execution_count": 24,
   "metadata": {},
   "outputs": [],
   "source": [
    "all_sentences.to_csv('all_physical_sentences.csv', index=False)"
   ]
  },
  {
   "cell_type": "code",
   "execution_count": 28,
   "metadata": {},
   "outputs": [],
   "source": [
    "import pickle"
   ]
  },
  {
   "cell_type": "code",
   "execution_count": 29,
   "metadata": {},
   "outputs": [],
   "source": [
    "with open('clusters.pkl', 'wb') as f:\n",
    "    pickle.dump(scores, f)"
   ]
  },
  {
   "cell_type": "markdown",
   "metadata": {},
   "source": [
    "### Analyze clusters"
   ]
  },
  {
   "cell_type": "code",
   "execution_count": 4,
   "metadata": {},
   "outputs": [],
   "source": [
    "all_sentences = pd.read_csv('all_physical_sentences.csv')"
   ]
  },
  {
   "cell_type": "code",
   "execution_count": 575,
   "metadata": {},
   "outputs": [],
   "source": [
    "with open('clusters.pkl', 'rb') as f:\n",
    "    scores = pickle.load(f)"
   ]
  },
  {
   "cell_type": "code",
   "execution_count": 30,
   "metadata": {},
   "outputs": [
    {
     "data": {
      "text/plain": [
       "[(KMeans(n_clusters=5), 5, 40916.005191324235),\n",
       " (KMeans(n_clusters=10), 10, 26379.292550087193),\n",
       " (KMeans(n_clusters=15), 15, 21520.343876857503),\n",
       " (KMeans(n_clusters=20), 20, 17972.838508140943),\n",
       " (KMeans(n_clusters=25), 25, 15759.80111973535),\n",
       " (KMeans(n_clusters=30), 30, 14297.352107535062),\n",
       " (KMeans(n_clusters=35), 35, 12704.999583251705),\n",
       " (KMeans(n_clusters=40), 40, 11977.035376253176),\n",
       " (KMeans(n_clusters=45), 45, 10902.311930137515),\n",
       " (KMeans(n_clusters=50), 50, 10332.808488945626)]"
      ]
     },
     "execution_count": 30,
     "metadata": {},
     "output_type": "execute_result"
    }
   ],
   "source": [
    "scores"
   ]
  },
  {
   "cell_type": "code",
   "execution_count": 116,
   "metadata": {},
   "outputs": [],
   "source": [
    "kmeans = scores[2][0]"
   ]
  },
  {
   "cell_type": "code",
   "execution_count": 117,
   "metadata": {},
   "outputs": [],
   "source": [
    "all_sentences['cluster'] = kmeans.labels_"
   ]
  },
  {
   "cell_type": "code",
   "execution_count": 2,
   "metadata": {},
   "outputs": [],
   "source": [
    "cluster_contents = {}"
   ]
  },
  {
   "cell_type": "code",
   "execution_count": 119,
   "metadata": {},
   "outputs": [
    {
     "data": {
      "text/plain": [
       "soils       1900\n",
       "acid        1718\n",
       "suitable    1572\n",
       "ph          1572\n",
       "neutral     1500\n",
       "alkaline    1433\n",
       "basic       1297\n",
       "grow         328\n",
       "saline        67\n",
       "erigeron       0\n",
       "dtype: int64"
      ]
     },
     "execution_count": 119,
     "metadata": {},
     "output_type": "execute_result"
    }
   ],
   "source": [
    "all_sentences[word_cols][all_sentences['cluster']==0].sum().sort_values(ascending=False)[:10]"
   ]
  },
  {
   "cell_type": "code",
   "execution_count": 3,
   "metadata": {},
   "outputs": [],
   "source": [
    "cluster_contents[0] = 'pH'"
   ]
  },
  {
   "cell_type": "code",
   "execution_count": 121,
   "metadata": {},
   "outputs": [
    {
     "data": {
      "text/plain": [
       "soil        707\n",
       "drained     707\n",
       "suitable    707\n",
       "soils       707\n",
       "prefers     707\n",
       "light       703\n",
       "sandy       703\n",
       "loamy       695\n",
       "medium      695\n",
       "clay        414\n",
       "dtype: int64"
      ]
     },
     "execution_count": 121,
     "metadata": {},
     "output_type": "execute_result"
    }
   ],
   "source": [
    "all_sentences[word_cols][all_sentences['cluster']==1].sum().sort_values(ascending=False)[:10]"
   ]
  },
  {
   "cell_type": "code",
   "execution_count": 4,
   "metadata": {},
   "outputs": [],
   "source": [
    "cluster_contents[1] = 'soil texture'"
   ]
  },
  {
   "cell_type": "code",
   "execution_count": 123,
   "metadata": {},
   "outputs": [
    {
     "data": {
      "text/plain": [
       "zone           1234\n",
       "hardy          1234\n",
       "uk             1234\n",
       "tender          323\n",
       "frost           323\n",
       "10               25\n",
       "zostera           0\n",
       "emilia            0\n",
       "engelmannii       0\n",
       "encelia           0\n",
       "dtype: int64"
      ]
     },
     "execution_count": 123,
     "metadata": {},
     "output_type": "execute_result"
    }
   ],
   "source": [
    "all_sentences[word_cols][all_sentences['cluster']==2].sum().sort_values(ascending=False)[:10]"
   ]
  },
  {
   "cell_type": "code",
   "execution_count": 5,
   "metadata": {},
   "outputs": [],
   "source": [
    "cluster_contents[2] = 'hardiness zone'"
   ]
  },
  {
   "cell_type": "code",
   "execution_count": 125,
   "metadata": {},
   "outputs": [
    {
     "data": {
      "text/plain": [
       "male             1341\n",
       "female           1341\n",
       "hermaphrodite    1145\n",
       "organs           1145\n",
       "pollinated       1072\n",
       "insects           519\n",
       "bees              260\n",
       "wind              257\n",
       "flowers           201\n",
       "monoecious        196\n",
       "dtype: int64"
      ]
     },
     "execution_count": 125,
     "metadata": {},
     "output_type": "execute_result"
    }
   ],
   "source": [
    "all_sentences[word_cols][all_sentences['cluster']==3].sum().sort_values(ascending=False)[:10]"
   ]
  },
  {
   "cell_type": "code",
   "execution_count": 6,
   "metadata": {},
   "outputs": [],
   "source": [
    "cluster_contents[3] = 'pollination'"
   ]
  },
  {
   "cell_type": "code",
   "execution_count": 127,
   "metadata": {},
   "outputs": [
    {
     "data": {
      "text/plain": [
       "grow             625\n",
       "shade            603\n",
       "water             22\n",
       "zostera            0\n",
       "engelmannii        0\n",
       "elliottii          0\n",
       "ellipsoidalis      0\n",
       "elliptica          0\n",
       "elodea             0\n",
       "elymus             0\n",
       "dtype: int64"
      ]
     },
     "execution_count": 127,
     "metadata": {},
     "output_type": "execute_result"
    }
   ],
   "source": [
    "all_sentences[word_cols][all_sentences['cluster']==4].sum().sort_values(ascending=False)[:10]"
   ]
  },
  {
   "cell_type": "code",
   "execution_count": 7,
   "metadata": {},
   "outputs": [],
   "source": [
    "cluster_contents[4] = 'grows in shade/does not grow in shade?'"
   ]
  },
  {
   "cell_type": "code",
   "execution_count": 129,
   "metadata": {},
   "outputs": [
    {
     "data": {
      "text/plain": [
       "heavy       669\n",
       "clay        669\n",
       "soils       617\n",
       "loamy       597\n",
       "medium      597\n",
       "suitable    597\n",
       "sandy       558\n",
       "light       558\n",
       "grow        124\n",
       "soil        104\n",
       "dtype: int64"
      ]
     },
     "execution_count": 129,
     "metadata": {},
     "output_type": "execute_result"
    }
   ],
   "source": [
    "all_sentences[word_cols][all_sentences['cluster']==5].sum().sort_values(ascending=False)[:10]"
   ]
  },
  {
   "cell_type": "code",
   "execution_count": 8,
   "metadata": {},
   "outputs": [],
   "source": [
    "cluster_contents[5] = 'soil texture'"
   ]
  },
  {
   "cell_type": "code",
   "execution_count": 131,
   "metadata": {},
   "outputs": [
    {
     "data": {
      "text/plain": [
       "soil        1552\n",
       "prefers     1551\n",
       "moist       1494\n",
       "dry          552\n",
       "drought      256\n",
       "tolerate     256\n",
       "wet          226\n",
       "grow          55\n",
       "water         54\n",
       "drained        1\n",
       "dtype: int64"
      ]
     },
     "execution_count": 131,
     "metadata": {},
     "output_type": "execute_result"
    }
   ],
   "source": [
    "all_sentences[word_cols][all_sentences['cluster']==6].sum().sort_values(ascending=False)[:10]"
   ]
  },
  {
   "cell_type": "code",
   "execution_count": 9,
   "metadata": {},
   "outputs": [],
   "source": [
    "cluster_contents[6] = 'soil moisture'"
   ]
  },
  {
   "cell_type": "code",
   "execution_count": 133,
   "metadata": {},
   "outputs": [
    {
     "data": {
      "text/plain": [
       "shade          1946\n",
       "woodland       1094\n",
       "semi            969\n",
       "grow            969\n",
       "light           969\n",
       "deep            125\n",
       "empetrum          0\n",
       "engelmannii       0\n",
       "encelia           0\n",
       "zostera           0\n",
       "dtype: int64"
      ]
     },
     "execution_count": 133,
     "metadata": {},
     "output_type": "execute_result"
    }
   ],
   "source": [
    "all_sentences[word_cols][all_sentences['cluster']==7].sum().sort_values(ascending=False)[:10]"
   ]
  },
  {
   "cell_type": "code",
   "execution_count": 10,
   "metadata": {},
   "outputs": [],
   "source": [
    "cluster_contents[7] = 'light'"
   ]
  },
  {
   "cell_type": "code",
   "execution_count": 135,
   "metadata": {},
   "outputs": [
    {
     "data": {
      "text/plain": [
       "plant            392\n",
       "fertile          392\n",
       "self             392\n",
       "zostera            0\n",
       "encelia            0\n",
       "eleocharis         0\n",
       "elliottii          0\n",
       "ellipsoidalis      0\n",
       "elliptica          0\n",
       "elodea             0\n",
       "dtype: int64"
      ]
     },
     "execution_count": 135,
     "metadata": {},
     "output_type": "execute_result"
    }
   ],
   "source": [
    "all_sentences[word_cols][all_sentences['cluster']==8].sum().sort_values(ascending=False)[:10]"
   ]
  },
  {
   "cell_type": "code",
   "execution_count": 11,
   "metadata": {},
   "outputs": [],
   "source": [
    "cluster_contents[8] = 'plant is self-fertile'"
   ]
  },
  {
   "cell_type": "code",
   "execution_count": 137,
   "metadata": {},
   "outputs": [
    {
     "data": {
      "text/plain": [
       "growing      591\n",
       "flower       517\n",
       "deciduous    400\n",
       "rate         347\n",
       "shrub        289\n",
       "tree         263\n",
       "july         209\n",
       "evergreen    176\n",
       "june         173\n",
       "august       153\n",
       "dtype: int64"
      ]
     },
     "execution_count": 137,
     "metadata": {},
     "output_type": "execute_result"
    }
   ],
   "source": [
    "all_sentences[word_cols][all_sentences['cluster']==9].sum().sort_values(ascending=False)[:10]"
   ]
  },
  {
   "cell_type": "code",
   "execution_count": 12,
   "metadata": {},
   "outputs": [],
   "source": [
    "cluster_contents[9] = 'deciduous/evergreen, growth rate, tree/shrub, flowering time'"
   ]
  },
  {
   "cell_type": "code",
   "execution_count": 139,
   "metadata": {},
   "outputs": [
    {
     "data": {
      "text/plain": [
       "growing      915\n",
       "perennial    664\n",
       "1ft          469\n",
       "8in          299\n",
       "2ft          241\n",
       "0ft          212\n",
       "rate         208\n",
       "3ft          207\n",
       "3in          183\n",
       "4in          165\n",
       "dtype: int64"
      ]
     },
     "execution_count": 139,
     "metadata": {},
     "output_type": "execute_result"
    }
   ],
   "source": [
    "all_sentences[word_cols][all_sentences['cluster']==10].sum().sort_values(ascending=False)[:10]"
   ]
  },
  {
   "cell_type": "code",
   "execution_count": 13,
   "metadata": {},
   "outputs": [],
   "source": [
    "cluster_contents[10] = 'growth rate?'"
   ]
  },
  {
   "cell_type": "code",
   "execution_count": 141,
   "metadata": {},
   "outputs": [
    {
     "data": {
      "text/plain": [
       "seeds        625\n",
       "ripen        625\n",
       "flower       622\n",
       "october      370\n",
       "august       343\n",
       "july         308\n",
       "september    306\n",
       "june         261\n",
       "leaf         215\n",
       "year         180\n",
       "dtype: int64"
      ]
     },
     "execution_count": 141,
     "metadata": {},
     "output_type": "execute_result"
    }
   ],
   "source": [
    "all_sentences[word_cols][all_sentences['cluster']==11].sum().sort_values(ascending=False)[:10]"
   ]
  },
  {
   "cell_type": "code",
   "execution_count": 14,
   "metadata": {},
   "outputs": [],
   "source": [
    "cluster_contents[11]= 'flowering and fruitng time'"
   ]
  },
  {
   "cell_type": "code",
   "execution_count": 143,
   "metadata": {},
   "outputs": [
    {
     "data": {
      "text/plain": [
       "male          240\n",
       "female        240\n",
       "sex           120\n",
       "seed          120\n",
       "individual    120\n",
       "dioecious     120\n",
       "plant         120\n",
       "grown         120\n",
       "plants        120\n",
       "required      120\n",
       "dtype: int64"
      ]
     },
     "execution_count": 143,
     "metadata": {},
     "output_type": "execute_result"
    }
   ],
   "source": [
    "all_sentences[word_cols][all_sentences['cluster']==12].sum().sort_values(ascending=False)[:10]"
   ]
  },
  {
   "cell_type": "code",
   "execution_count": 15,
   "metadata": {},
   "outputs": [],
   "source": [
    "cluster_contents[12] = 'dioecious plants'"
   ]
  },
  {
   "cell_type": "code",
   "execution_count": 145,
   "metadata": {},
   "outputs": [
    {
     "data": {
      "text/plain": [
       "soil             488\n",
       "soils            278\n",
       "suitable         264\n",
       "grow             264\n",
       "sandy            260\n",
       "light            260\n",
       "loamy            251\n",
       "medium           251\n",
       "prefers          238\n",
       "drained          238\n",
       "nutritionally    223\n",
       "poor             223\n",
       "clay             204\n",
       "heavy            204\n",
       "equisetum          0\n",
       "emarginata         0\n",
       "elata              0\n",
       "elegans            0\n",
       "eleocharis         0\n",
       "elliottii          0\n",
       "dtype: int64"
      ]
     },
     "execution_count": 145,
     "metadata": {},
     "output_type": "execute_result"
    }
   ],
   "source": [
    "all_sentences[word_cols][all_sentences['cluster']==13].sum().sort_values(ascending=False)[:20]"
   ]
  },
  {
   "cell_type": "code",
   "execution_count": 16,
   "metadata": {},
   "outputs": [],
   "source": [
    "cluster_contents[13] = 'soil texture'"
   ]
  },
  {
   "cell_type": "code",
   "execution_count": 147,
   "metadata": {},
   "outputs": [
    {
     "data": {
      "text/plain": [
       "exposure     244\n",
       "maritime     244\n",
       "plant        244\n",
       "tolerates    155\n",
       "strong       155\n",
       "winds        155\n",
       "tolerate      89\n",
       "elymus         0\n",
       "empetrum       0\n",
       "elodea         0\n",
       "dtype: int64"
      ]
     },
     "execution_count": 147,
     "metadata": {},
     "output_type": "execute_result"
    }
   ],
   "source": [
    "all_sentences[word_cols][all_sentences['cluster']==14].sum().sort_values(ascending=False)[:10]"
   ]
  },
  {
   "cell_type": "code",
   "execution_count": 18,
   "metadata": {},
   "outputs": [],
   "source": [
    "cluster_contents[14] = 'wind tolerance and maritime exposure'"
   ]
  },
  {
   "cell_type": "code",
   "execution_count": 19,
   "metadata": {},
   "outputs": [
    {
     "data": {
      "text/plain": [
       "{0: 'pH',\n",
       " 1: 'soil texture',\n",
       " 2: 'hardiness zone',\n",
       " 3: 'pollination',\n",
       " 4: 'grows in shade/does not grow in shade?',\n",
       " 5: 'soil texture',\n",
       " 6: 'soil moisture',\n",
       " 7: 'light',\n",
       " 8: 'plant is self-fertile',\n",
       " 9: 'deciduous/evergreen, growth rate, tree/shrub, flowering time',\n",
       " 10: 'growth rate?',\n",
       " 11: 'flowering and fruitng time',\n",
       " 12: 'dioecious plants',\n",
       " 13: 'soil texture',\n",
       " 14: 'wind tolerance and maritime exposure'}"
      ]
     },
     "execution_count": 19,
     "metadata": {},
     "output_type": "execute_result"
    }
   ],
   "source": [
    "cluster_contents"
   ]
  },
  {
   "cell_type": "code",
   "execution_count": 148,
   "metadata": {},
   "outputs": [],
   "source": [
    "all_sentences.to_csv('all_physical_sentences.csv', index=False)"
   ]
  },
  {
   "cell_type": "code",
   "execution_count": 33,
   "metadata": {},
   "outputs": [],
   "source": [
    "complete_sentences = physical['text'].apply(sent_tokenize)"
   ]
  },
  {
   "cell_type": "code",
   "execution_count": 110,
   "metadata": {},
   "outputs": [
    {
     "data": {
      "text/plain": [
       "[]                                                                                              4005\n",
       "[Suitable pH: acid, neutral and basic (alkaline) soils.]                                        1074\n",
       "[Suitable pH: acid and neutral soils.]                                                           143\n",
       "[Suitable pH: acid, neutral and basic (alkaline) soils and can grow in very alkaline soils.]      85\n",
       "[Suitable pH: acid soils and can grow in very acid soils.]                                        61\n",
       "Name: text, dtype: int64"
      ]
     },
     "execution_count": 110,
     "metadata": {},
     "output_type": "execute_result"
    }
   ],
   "source": [
    "ph_sentences = complete_sentences.apply(lambda x: [s for s in x if \n",
    "                                                   ' pH' in s])\n",
    "ph_sentences.value_counts()[:5]"
   ]
  },
  {
   "cell_type": "code",
   "execution_count": 57,
   "metadata": {},
   "outputs": [],
   "source": [
    "pfaf['physical characteristics'].fillna('', inplace=True)"
   ]
  },
  {
   "cell_type": "code",
   "execution_count": 61,
   "metadata": {},
   "outputs": [],
   "source": [
    "pfaf['very acidic soil'] = pfaf['physical characteristics'].apply(\n",
    "    lambda x: 'very acid' in x.lower())\n",
    "pfaf['acidic soil'] = pfaf['physical characteristics'].apply(\n",
    "    lambda x: 'acid' in x.lower())\n",
    "pfaf['neutral soil'] = pfaf['physical characteristics'].apply(\n",
    "    lambda x: 'neutral' in x.lower())\n",
    "pfaf['alkaline soil'] = pfaf['physical characteristics'].apply(\n",
    "    lambda x: 'alkaline' in x.lower())\n",
    "pfaf['very alkaline soil'] = pfaf['physical characteristics'].apply(\n",
    "    lambda x: 'very alkaline' in x.lower())\n",
    "pfaf['saline soil'] = pfaf['physical characteristics'].apply(\n",
    "    lambda x: 'saline' in x.lower())"
   ]
  },
  {
   "cell_type": "code",
   "execution_count": 62,
   "metadata": {},
   "outputs": [],
   "source": [
    "pfaf.to_csv('pfaf_data.csv', index=False)"
   ]
  },
  {
   "cell_type": "code",
   "execution_count": 109,
   "metadata": {},
   "outputs": [
    {
     "data": {
      "text/plain": [
       "[]                                                                                                                            4009\n",
       "[Suitable for: light (sandy), medium (loamy) and heavy (clay) soils and prefers well-drained soil.]                            413\n",
       "[Suitable for: light (sandy), medium (loamy) and heavy (clay) soils.]                                                          396\n",
       "[Suitable for: light (sandy) and medium (loamy) soils and prefers well-drained soil.]                                          278\n",
       "[Suitable for: light (sandy) and medium (loamy) soils, prefers well-drained soil and can grow in nutritionally poor soil.]      95\n",
       "Name: text, dtype: int64"
      ]
     },
     "execution_count": 109,
     "metadata": {},
     "output_type": "execute_result"
    }
   ],
   "source": [
    "texture_sentences = complete_sentences.apply(\n",
    "    lambda x: [s for s in x if ('sandy' in s or 'loamy' in s or \n",
    "                                'clay' in s)])\n",
    "texture_sentences.value_counts()[:5]"
   ]
  },
  {
   "cell_type": "code",
   "execution_count": 65,
   "metadata": {},
   "outputs": [],
   "source": [
    "pfaf['coarse soil'] = pfaf['physical characteristics'].apply(\n",
    "    lambda x: 'sandy' in x.lower())\n",
    "pfaf['medium soil'] = pfaf['physical characteristics'].apply(\n",
    "    lambda x: 'loamy' in x.lower())\n",
    "pfaf['fine soil'] = pfaf['physical characteristics'].apply(\n",
    "    lambda x: 'clay' in x.lower())\n",
    "pfaf['drained soil'] = pfaf['physical characteristics'].apply(\n",
    "    lambda x: 'well-drained' in x.lower())\n",
    "pfaf['tolerates poor soil'] = pfaf['physical characteristics'].apply(\n",
    "    lambda x: 'nutritionally poor' in x.lower())"
   ]
  },
  {
   "cell_type": "code",
   "execution_count": 66,
   "metadata": {},
   "outputs": [],
   "source": [
    "pfaf.to_csv('pfaf_data.csv', index=False)"
   ]
  },
  {
   "cell_type": "code",
   "execution_count": 68,
   "metadata": {},
   "outputs": [],
   "source": [
    "all_sentences = pd.read_csv('all_physical_sentences.csv')"
   ]
  },
  {
   "cell_type": "code",
   "execution_count": 111,
   "metadata": {},
   "outputs": [
    {
     "data": {
      "text/plain": [
       "[]                                                                                                                                                      4114\n",
       "[The species is hermaphrodite (has both male and female organs) and is pollinated by Insects.]                                                           449\n",
       "[The species is hermaphrodite (has both male and female organs).]                                                                                        260\n",
       "[The species is monoecious (individual flowers are either male or female, but both sexes can be found on the same plant) and is pollinated by Wind.]     162\n",
       "[The species is hermaphrodite (has both male and female organs) and is pollinated by Bees.]                                                              153\n",
       "Name: text, dtype: int64"
      ]
     },
     "execution_count": 111,
     "metadata": {},
     "output_type": "execute_result"
    }
   ],
   "source": [
    "sex_sentences = complete_sentences.apply(\n",
    "    lambda x: [s for s in x if ('male' in s or 'female' in s or \n",
    "                                'hermaphrodite' in s)])\n",
    "sex_sentences.value_counts()[:5]"
   ]
  },
  {
   "cell_type": "code",
   "execution_count": 75,
   "metadata": {},
   "outputs": [],
   "source": [
    "pfaf['monoecious'] = pfaf['physical characteristics'].apply(\n",
    "    lambda x: 'monoecious' in x.lower())\n",
    "pfaf['dioecious'] = pfaf['physical characteristics'].apply(\n",
    "    lambda x: 'dioecious' in x.lower())\n",
    "pfaf['hermaphrodite'] = pfaf['physical characteristics'].apply(\n",
    "    lambda x: 'hermaphrodite' in x.lower())"
   ]
  },
  {
   "cell_type": "code",
   "execution_count": 83,
   "metadata": {},
   "outputs": [],
   "source": [
    "pfaf['self-fertile'] = pfaf['physical characteristics'].apply(\n",
    "    lambda x: 'is self-fertile' in x)"
   ]
  },
  {
   "cell_type": "code",
   "execution_count": 105,
   "metadata": {},
   "outputs": [],
   "source": [
    "pollinators = ['insects', 'bees', 'wind', 'flies', 'butterflies', \n",
    "              'moths', 'beetles', 'midges']\n",
    "for p in pollinators:\n",
    "    if p in ['butterflies', 'moths']:\n",
    "        pfaf[f'pollinated by {p}'] = (pfaf['physical '\n",
    "                                          'characteristics'].apply(\n",
    "            lambda x: (p in x.lower() or 'lepidoptera' in x.lower())))\n",
    "    else:\n",
    "        pfaf[f'pollinated by {p}'] = pfaf['physical '\n",
    "                                          'characteristics'].apply(\n",
    "            lambda x: p in x.lower())"
   ]
  },
  {
   "cell_type": "code",
   "execution_count": 112,
   "metadata": {},
   "outputs": [],
   "source": [
    "pfaf.to_csv('pfaf_data.csv', index=False)"
   ]
  },
  {
   "cell_type": "code",
   "execution_count": 117,
   "metadata": {},
   "outputs": [
    {
     "data": {
      "text/plain": [
       "[]                                                          4005\n",
       "[It prefers moist soil.]                                     755\n",
       "[It prefers dry or moist soil.]                              337\n",
       "[It prefers dry or moist soil and can tolerate drought.]     191\n",
       "[It prefers moist or wet soil.]                              127\n",
       "[It prefers wet soil and can grow in water.]                  40\n",
       "Name: text, dtype: int64"
      ]
     },
     "execution_count": 117,
     "metadata": {},
     "output_type": "execute_result"
    }
   ],
   "source": [
    "moisture_sentences = complete_sentences.apply(lambda x: [s for s in \n",
    "    x if ('moist' in s.lower() or 'dry' in s.lower() or 'drought' \n",
    "          in s.lower() or 'wet' in s.lower() or 'water' in s.lower())])\n",
    "moisture_sentences.value_counts()[:6]"
   ]
  },
  {
   "cell_type": "code",
   "execution_count": 120,
   "metadata": {},
   "outputs": [],
   "source": [
    "for m in ['dry', 'moist', 'wet']:\n",
    "    pfaf[f'{m} soil'] = pfaf['physical characteristics'].apply(\n",
    "        lambda x: m in x.lower())\n",
    "pfaf['grows in water'] = pfaf['physical characteristics'].apply(\n",
    "    lambda x: 'in water' in x.lower())\n",
    "pfaf['drought tolerant'] = pfaf['physical characteristics'].apply(\n",
    "    lambda x: 'drought' in x.lower())"
   ]
  },
  {
   "cell_type": "code",
   "execution_count": 122,
   "metadata": {},
   "outputs": [],
   "source": [
    "pfaf.to_csv('pfaf_data.csv', index=False)"
   ]
  },
  {
   "cell_type": "code",
   "execution_count": 125,
   "metadata": {},
   "outputs": [
    {
     "data": {
      "text/plain": [
       "[]                                                                                      4005\n",
       "[It can grow in semi-shade (light woodland) or no shade.]                                787\n",
       "[It cannot grow in the shade.]                                                           603\n",
       "[It can grow in full shade (deep woodland) semi-shade (light woodland) or no shade.]      65\n",
       "[It can grow in full shade (deep woodland) or semi-shade (light woodland).]               60\n",
       "[It can grow in semi-shade (light woodland).]                                             57\n",
       "Name: text, dtype: int64"
      ]
     },
     "execution_count": 125,
     "metadata": {},
     "output_type": "execute_result"
    }
   ],
   "source": [
    "light_sentences = complete_sentences.apply(lambda x: [s for s in x \n",
    "    if 'shade' in s.lower()])\n",
    "light_sentences.value_counts()"
   ]
  },
  {
   "cell_type": "code",
   "execution_count": 127,
   "metadata": {},
   "outputs": [],
   "source": [
    "pfaf['full sun'] = pfaf['physical characteristics'].apply(lambda x: \n",
    "    ('no shade' in x.lower() or 'cannot grow in the shade' in x.lower()))\n",
    "pfaf['partial shade'] = pfaf['physical characteristics'].apply(lambda x: \n",
    "    'semi-shade' in x.lower())\n",
    "pfaf['full shade'] = pfaf['physical characteristics'].apply(lambda x: \n",
    "    'full shade' in x.lower())"
   ]
  },
  {
   "cell_type": "code",
   "execution_count": 128,
   "metadata": {},
   "outputs": [
    {
     "data": {
      "text/plain": [
       "False    5452\n",
       "True      125\n",
       "Name: full shade, dtype: int64"
      ]
     },
     "execution_count": 128,
     "metadata": {},
     "output_type": "execute_result"
    }
   ],
   "source": [
    "pfaf['full shade'].value_counts()"
   ]
  },
  {
   "cell_type": "code",
   "execution_count": 236,
   "metadata": {},
   "outputs": [
    {
     "data": {
      "text/plain": [
       "[]                                                           5273\n",
       "[It is in leaf all year.]                                      34\n",
       "[It is in leaf all year, in flower from July to August.]       18\n",
       "[It is in leaf all year, in flower from April to May.]         13\n",
       "[It is in leaf all year, and the seeds ripen in October.]      11\n",
       "Name: text, dtype: int64"
      ]
     },
     "execution_count": 236,
     "metadata": {},
     "output_type": "execute_result"
    }
   ],
   "source": [
    "leaf_sentences = complete_sentences.apply(lambda x: [s for s in x \n",
    "    if 'in leaf' in s.lower()])\n",
    "leaf_sentences.value_counts()[:5]"
   ]
  },
  {
   "cell_type": "code",
   "execution_count": 131,
   "metadata": {},
   "outputs": [],
   "source": [
    "months = {'January': 1, 'February': 2, 'March': 3, 'April': 4, \n",
    "          'May': 5, 'June': 6, 'July': 7, 'August': 8, \n",
    "          'September': 9, 'October': 10, 'November': 11, \n",
    "          'December': 12}"
   ]
  },
  {
   "cell_type": "code",
   "execution_count": 203,
   "metadata": {},
   "outputs": [],
   "source": [
    "in_leaf_cols = pfaf['physical characteristics'].str.split(\n",
    "    r'(?<=in leaf from )([A-Z]{1}[a-z]+) to ([A-Z]{1}[a-z]+)', expand=True)\n",
    "in_leaf_cols = in_leaf_cols[[1, 2]]\n",
    "in_leaf_cols.rename({1: 'min', 2: 'max'}, axis=1, inplace=True)\n",
    "in_leaf_cols['min'] = np.where(pfaf['physical characteristics'].str.contains(\n",
    "    'in leaf all year'), 'January', in_leaf_cols['min'])\n",
    "in_leaf_cols['max'] = np.where(pfaf['physical characteristics'].str.contains(\n",
    "    'in leaf all year'), 'December', in_leaf_cols['max'])"
   ]
  },
  {
   "cell_type": "code",
   "execution_count": 204,
   "metadata": {},
   "outputs": [],
   "source": [
    "in_flower_cols = pfaf['physical characteristics'].str.split(\n",
    "    r'(?<=in flower from )([A-Z]{1}[a-z]+) to ([A-Z]{1}[a-z]+)', expand=True)\n",
    "in_flower_cols = in_flower_cols[[1, 2]]\n",
    "in_flower_cols.rename({1: 'min', 2: 'max'}, axis=1, inplace=True)\n",
    "in_flower_in = pfaf['physical characteristics'].str.split(\n",
    "    r'(?<=in flower in )([A-Z]{1}[a-z]+)', expand=True)[1]\n",
    "in_flower_in.fillna('', inplace=True)\n",
    "in_flower_cols['min'] = np.where(in_flower_in!='', in_flower_in, in_flower_cols['min'])\n",
    "in_flower_cols['max'] = np.where(in_flower_in!='', in_flower_in, in_flower_cols['max'])"
   ]
  },
  {
   "cell_type": "code",
   "execution_count": 205,
   "metadata": {},
   "outputs": [],
   "source": [
    "seed_cols = pfaf['physical characteristics'].str.split(\n",
    "    r'(?<=seeds ripen from )([A-Z]{1}[a-z]+) to ([A-Z]{1}[a-z]+)', expand=True)\n",
    "seed_cols = seed_cols[[1, 2]]\n",
    "seed_cols.rename({1: 'min', 2: 'max'}, axis=1, inplace=True)\n",
    "seed_in = pfaf['physical characteristics'].str.split(\n",
    "    r'(?<=seeds ripen in )([A-Z]{1}[a-z]+)', expand=True)[1]\n",
    "seed_in.fillna('', inplace=True)\n",
    "seed_cols['min'] = np.where(seed_in!='', seed_in, seed_cols['min'])\n",
    "seed_cols['max'] = np.where(seed_in!='', seed_in, seed_cols['max'])"
   ]
  },
  {
   "cell_type": "code",
   "execution_count": 206,
   "metadata": {},
   "outputs": [],
   "source": [
    "in_leaf_cols.replace(months, inplace=True)\n",
    "in_flower_cols.replace(months, inplace=True)\n",
    "seed_cols.replace(months, inplace=True)\n",
    "in_leaf_cols.fillna(0, inplace=True)\n",
    "in_flower_cols.fillna(0, inplace=True)\n",
    "seed_cols.fillna(0, inplace=True)"
   ]
  },
  {
   "cell_type": "code",
   "execution_count": 217,
   "metadata": {},
   "outputs": [],
   "source": [
    "for i,month in enumerate(['jan', 'feb', 'mar', 'apr', 'may', 'jun', 'jul', 'aug', 'sep',\n",
    "                          'oct', 'nov', 'dec']):\n",
    "    num = i+1\n",
    "    pfaf[f'leaf {month}'] = np.where((((in_leaf_cols['min'] <= num) & (in_leaf_cols['max'] >= num)) |\n",
    "                             ((in_leaf_cols['min'] > in_leaf_cols['max']) &\n",
    "                             ((in_leaf_cols['min'] >= num) | (in_leaf_cols['max'] <= num)))), True, False)\n",
    "    pfaf[f'flower {month}'] = np.where((((in_flower_cols['min'] <= num) & (in_flower_cols['max'] >= num)) |\n",
    "                             ((in_flower_cols['min'] > in_flower_cols['max']) &\n",
    "                             ((in_flower_cols['min'] >= num) | (in_flower_cols['max'] <= num)))), True, False)#     pfaf[f'seed {month}'] = (((seed_cols['min'] <= num) & (seed_cols['max'] >= num)) |\n",
    "    pfaf[f'seed {month}'] = np.where((((seed_cols['min'] <= num) & (seed_cols['max'] >= num)) |\n",
    "                             ((seed_cols['min'] > seed_cols['max']) &\n",
    "                             ((seed_cols['min'] >= num) | (seed_cols['max'] <= num)))), True, False)"
   ]
  },
  {
   "cell_type": "code",
   "execution_count": 219,
   "metadata": {},
   "outputs": [],
   "source": [
    "pfaf.to_csv('pfaf_data.csv', index=False)"
   ]
  },
  {
   "cell_type": "code",
   "execution_count": 235,
   "metadata": {},
   "outputs": [
    {
     "data": {
      "text/plain": [
       "[]                                                                                                           5306\n",
       "[The plant can tolerates strong winds but not maritime exposure.]                                             111\n",
       "[The plant can tolerate maritime exposure.]                                                                    81\n",
       "[The plant can tolerates strong winds but not maritime exposure., It can tolerate atmospheric pollution.]      36\n",
       "[It can tolerate atmospheric pollution.]                                                                       16\n",
       "Name: text, dtype: int64"
      ]
     },
     "execution_count": 235,
     "metadata": {},
     "output_type": "execute_result"
    }
   ],
   "source": [
    "tolerance_sentences = complete_sentences.apply(lambda x: [s for s in x if ('tolerate' in\n",
    "    s.lower() or 'tolerant' in s.lower()) and 'drought' not in s.lower()])\n",
    "tolerance_sentences.value_counts()[:5]"
   ]
  },
  {
   "cell_type": "code",
   "execution_count": 231,
   "metadata": {},
   "outputs": [],
   "source": [
    "pfaf['wind tolerant'] = pfaf['physical characteristics'].apply(lambda x: 'tolerates '\n",
    "    'strong winds' in x)\n",
    "pfaf['maritime tolerant'] = pfaf['physical characteristics'].apply(lambda x: 'can '\n",
    "    'tolerate maritime exposure' in x)\n",
    "pfaf['pollution tolerant'] = pfaf['physical characteristics'].apply(lambda x: 'can '\n",
    "    'tolerate atmospheric pollution' in x)"
   ]
  },
  {
   "cell_type": "code",
   "execution_count": 234,
   "metadata": {},
   "outputs": [
    {
     "data": {
      "text/plain": [
       "[]                                                                                                            5018\n",
       "[Artemisia dracunculus is a PERENNIAL growing to 0.6 m (2ft) by 0.3 m (1ft in) at a medium rate.]                1\n",
       "[Pinus contorta is an evergreen Tree growing to 15 m (49ft) by 8 m (26ft) at a fast rate.]                       1\n",
       "[Solidago simplex is a PERENNIAL growing to 0.6 m (2ft) at a fast rate.]                                         1\n",
       "[Armeria maritima is an evergreen Perennial growing to 0.1 m (0ft 4in) by 0.2 m (0ft 8in) at a slow rate.]       1\n",
       "Name: text, dtype: int64"
      ]
     },
     "execution_count": 234,
     "metadata": {},
     "output_type": "execute_result"
    }
   ],
   "source": [
    "growth_rate_sentences = complete_sentences.apply(lambda x: [s for s in x if ' rate' in s])\n",
    "growth_rate_sentences.value_counts()[:5]"
   ]
  },
  {
   "cell_type": "code",
   "execution_count": 237,
   "metadata": {},
   "outputs": [],
   "source": [
    "pfaf['fast growth'] = pfaf['physical characteristics'].apply(lambda x: 'fast rate' in x)\n",
    "pfaf['medium growth'] = pfaf['physical characteristics'].apply(lambda x: 'medium rate' in x)\n",
    "pfaf['slow growth'] = pfaf['physical characteristics'].apply(lambda x: 'slow rate' in x)"
   ]
  },
  {
   "cell_type": "code",
   "execution_count": 238,
   "metadata": {},
   "outputs": [],
   "source": [
    "pfaf.to_csv('pfaf_data.csv', index=False)"
   ]
  },
  {
   "cell_type": "code",
   "execution_count": null,
   "metadata": {},
   "outputs": [],
   "source": []
  }
 ],
 "metadata": {
  "kernelspec": {
   "display_name": "Python 3",
   "language": "python",
   "name": "python3"
  },
  "language_info": {
   "codemirror_mode": {
    "name": "ipython",
    "version": 3
   },
   "file_extension": ".py",
   "mimetype": "text/x-python",
   "name": "python",
   "nbconvert_exporter": "python",
   "pygments_lexer": "ipython3",
   "version": "3.7.3"
  }
 },
 "nbformat": 4,
 "nbformat_minor": 4
}
